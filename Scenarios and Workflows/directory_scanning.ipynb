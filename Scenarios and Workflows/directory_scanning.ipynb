{
 "cells": [
  {
   "cell_type": "markdown",
   "source": [
    "# Directory Scanning\n",
    "This notebook contains and example of how to use the ReversingLabs SDK to **collect files from a local directory and send them for analysis on TitaniumCloud and A1000**."
   ],
   "metadata": {
    "collapsed": false
   },
   "id": "b8d2177c5214b66a"
  },
  {
   "cell_type": "markdown",
   "source": [
    "### Used TitaniumCloud classes\n",
    "- **FileUpload** (*TCA-0202-0203 - File Upload*)\n",
    "\n",
    "### Used A1000 functions\n",
    "- **upload_sample_from_path**\n",
    "\n",
    "### Credentials\n",
    "Credentials are loaded from a local file instead of being written here in plain text.\n",
    "To learn how to creat the credentials file, see the **Storing and using the credentials** section in the [README file](./README.md)"
   ],
   "metadata": {
    "collapsed": false
   },
   "id": "3c66cec58fcbe655"
  },
  {
   "cell_type": "markdown",
   "source": [
    "### 1. Scanning the files with TitaniumCloud\n",
    "To collect files from a local directory and send them for analysis on TitaniumCloud, see the following code example. "
   ],
   "metadata": {
    "collapsed": false
   },
   "id": "67ada420ce3509a"
  },
  {
   "cell_type": "code",
   "execution_count": null,
   "outputs": [],
   "source": [
    "import json\n",
    "import os\n",
    "from ReversingLabs.SDK.ticloud import FileUpload\n",
    "\n",
    "# Linux and Unix systems - Edit before use\n",
    "FOLDER_PATH_LINUX = \"/full/path/to/folder\"\n",
    "\n",
    "# Windows systems - Edit before use\n",
    "FOLDER_PATH_WINDOWS = \"C:\\\\full\\\\path\\\\to\\\\folder\"\n",
    "\n",
    "# Change this so the FOLDER_PATH variable fits your local system\n",
    "FOLDER_PATH = FOLDER_PATH_LINUX\n",
    "\n",
    "CREDENTIALS = json.load(open(\"credentials.json\"))\n",
    "USERNAME = CREDENTIALS.get(\"ticloud\").get(\"username\")\n",
    "PASSWORD = CREDENTIALS.get(\"ticloud\").get(\"password\")\n",
    "USER_AGENT = \"ReversingLabs SDK Cookbook v1.0.2\"\n",
    "\n",
    "\n",
    "file_upload = FileUpload(\n",
    "    host=\"https://data.reversinglabs.com\",\n",
    "    username=USERNAME,\n",
    "    password=PASSWORD,\n",
    "    user_agent=USER_AGENT\n",
    ")\n",
    "\n",
    "# Files that should not be analyzed can be added to this list\n",
    "skip_files = [\"file_name_1\", \"file_name_2\"]\n",
    "\n",
    "\n",
    "for file_name in os.listdir(FOLDER_PATH):\n",
    "    if file_name in skip_files:\n",
    "        continue\n",
    "    \n",
    "    file_path = os.path.join(FOLDER_PATH, file_name)\n",
    "    \n",
    "    try:\n",
    "        file_upload.upload_sample_from_path(file_path=file_path)\n",
    "    \n",
    "    except Exception as e:\n",
    "        if hasattr(e, \"response_object\"):\n",
    "            raise Exception(e.response_object.content)\n",
    "        \n",
    "        raise \n"
   ],
   "metadata": {
    "collapsed": false
   },
   "id": "9c39940f6b968b5"
  },
  {
   "cell_type": "markdown",
   "source": [
    "### 2. Scanning the files with A1000\n",
    "To collect files from a local directory and send them for analysis on A1000, see the following code example."
   ],
   "metadata": {
    "collapsed": false
   },
   "id": "987943a79bf60f06"
  },
  {
   "cell_type": "code",
   "execution_count": null,
   "outputs": [],
   "source": [
    "import json\n",
    "import os\n",
    "from ReversingLabs.SDK.a1000 import A1000\n",
    "\n",
    "# Linux and Unix systems - Edit before use\n",
    "FOLDER_PATH_LINUX = \"/full/path/to/folder\"\n",
    "\n",
    "# Windows systems - Edit before use\n",
    "FOLDER_PATH_WINDOWS = \"C:\\\\full\\\\path\\\\to\\\\folder\"\n",
    "\n",
    "# Change this so the FOLDER_PATH variable fits your local system\n",
    "FOLDER_PATH = FOLDER_PATH_LINUX\n",
    "\n",
    "CREDENTIALS = json.load(open(\"credentials.json\"))\n",
    "HOST = CREDENTIALS.get(\"a1000\").get(\"a1000_url\")\n",
    "TOKEN = CREDENTIALS.get(\"a1000\").get(\"token\")\n",
    "USER_AGENT = \"ReversingLabs SDK Cookbook v1.0.2\"\n",
    "\n",
    "# Set the verify parameter to False if your A1000 instance doesn't have a valid CA certificate\n",
    "a1000 = A1000(\n",
    "    host=HOST,\n",
    "    token=TOKEN,\n",
    "    verify=True,\n",
    "    user_agent=USER_AGENT\n",
    ")\n",
    "\n",
    "# Files that should not be analyzed can be added to this list\n",
    "skip_files = [\"file_name_1\", \"file_name_2\"]\n",
    "\n",
    "for file_name in os.listdir(FOLDER_PATH):\n",
    "    if file_name in skip_files:\n",
    "        continue\n",
    "    \n",
    "    file_path = os.path.join(FOLDER_PATH, file_name)\n",
    "    \n",
    "    try:\n",
    "        a1000.upload_sample_from_path(file_path=file_path)\n",
    "    \n",
    "    except Exception as e:\n",
    "        if hasattr(e, \"response_object\"):\n",
    "            raise Exception(e.response_object.content)\n",
    "        \n",
    "        raise \n"
   ],
   "metadata": {
    "collapsed": false
   },
   "id": "6b6774a15517020b"
  },
  {
   "cell_type": "markdown",
   "source": [
    "### 3. Scanning the files with TitaniumScale\n",
    "To collect files from a local directory and send them for analysis on TitaniumScale, see the following code example."
   ],
   "metadata": {
    "collapsed": false
   },
   "id": "75a945aa9a600013"
  },
  {
   "cell_type": "code",
   "execution_count": null,
   "outputs": [],
   "source": [
    "import json\n",
    "import os\n",
    "from ReversingLabs.SDK.tiscale import TitaniumScale\n",
    "\n",
    "# Linux and Unix systems - Edit before use\n",
    "FOLDER_PATH_LINUX = \"/full/path/to/folder\"\n",
    "\n",
    "# Windows systems - Edit before use\n",
    "FOLDER_PATH_WINDOWS = \"C:\\\\full\\\\path\\\\to\\\\folder\"\n",
    "\n",
    "# Change this so the FOLDER_PATH variable fits your local system\n",
    "FOLDER_PATH = FOLDER_PATH_LINUX\n",
    "\n",
    "CREDENTIALS = json.load(open(\"credentials.json\"))\n",
    "HOST = CREDENTIALS.get(\"tiscale\").get(\"tiscale_url\")\n",
    "TOKEN = CREDENTIALS.get(\"tiscale\").get(\"token\")\n",
    "USER_AGENT = \"ReversingLabs SDK Cookbook v1.0.2\"\n",
    "\n",
    "# Set the verify parameter to False if your A1000 instance doesn't have a valid CA certificate\n",
    "tiscale = TitaniumScale(\n",
    "    host=HOST,\n",
    "    token=TOKEN,\n",
    "    verify=True,\n",
    "    user_agent=USER_AGENT\n",
    ")\n",
    "\n",
    "# Files that should not be analyzed can be added to this list\n",
    "skip_files = [\"file_name_1\", \"file_name_2\"]\n",
    "\n",
    "for file_name in os.listdir(FOLDER_PATH):\n",
    "    if file_name in skip_files:\n",
    "        continue\n",
    "    \n",
    "    file_path = os.path.join(FOLDER_PATH, file_name)\n",
    "    \n",
    "    try:\n",
    "        tiscale.upload_sample_from_path(file_path=file_path)\n",
    "    \n",
    "    except Exception as e:\n",
    "        if hasattr(e, \"response_object\"):\n",
    "            raise Exception(e.response_object.content)\n",
    "        \n",
    "        raise "
   ],
   "metadata": {
    "collapsed": false
   },
   "id": "7b6f4ed40dcfbd26"
  }
 ],
 "metadata": {
  "kernelspec": {
   "display_name": "Python 3",
   "language": "python",
   "name": "python3"
  },
  "language_info": {
   "codemirror_mode": {
    "name": "ipython",
    "version": 2
   },
   "file_extension": ".py",
   "mimetype": "text/x-python",
   "name": "python",
   "nbconvert_exporter": "python",
   "pygments_lexer": "ipython2",
   "version": "2.7.6"
  }
 },
 "nbformat": 4,
 "nbformat_minor": 5
}
