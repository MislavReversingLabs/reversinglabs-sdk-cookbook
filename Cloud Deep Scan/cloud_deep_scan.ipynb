{
 "cells": [
  {
   "cell_type": "markdown",
   "source": [
    "# Cloud Deep Scan API\n",
    "This notebook explains how to use the Cloud Deep Scan REST API through the ReversingLabs SDK. The Cloud Deep Scan REST API offers several endpoints for performing static analysis on your files and checking their status.  \n",
    "**NOTE:** If pasted into a Python file in the displayed order, all code cells can also work as a Python script."
   ],
   "metadata": {
    "collapsed": false
   },
   "id": "dc3cb86d78dd8b51"
  },
  {
   "cell_type": "markdown",
   "source": [
    "### Credentials\n",
    "Credentials are loaded from a local file instead of being written here in plain text.\n",
    "To learn how to creat the credentials file, see the **Storing and using the credentials** section in the [README file](./README.md) "
   ],
   "metadata": {
    "collapsed": false
   },
   "id": "c1fa2171b7c25195"
  },
  {
   "cell_type": "markdown",
   "source": [
    "### 1. Import the CloudDeepScan class\n",
    "Since the clouddeepscan module's public methods are all part of one class, we only need one import: `CloudDeepScan`"
   ],
   "metadata": {
    "collapsed": false
   },
   "id": "c50c21066a7c2d37"
  },
  {
   "cell_type": "code",
   "execution_count": null,
   "outputs": [],
   "source": [
    "from ReversingLabs.SDK.clouddeepscan import CloudDeepScan"
   ],
   "metadata": {
    "collapsed": false
   },
   "id": "5098a797dd2ff1a3"
  },
  {
   "cell_type": "markdown",
   "source": [
    "### 2. Loading the credentials\n",
    "Next, we will load our Cloud Deep Scan credentials from the local `deepscan_credentials.json` file.\n",
    "**NOTE: Instead of doing this step, you can paste your credentials while creating the Python object in the following step.**"
   ],
   "metadata": {
    "collapsed": false
   },
   "id": "8586ab7b93cce48a"
  },
  {
   "cell_type": "code",
   "execution_count": null,
   "outputs": [],
   "source": [
    "import json\n",
    "\n",
    "\n",
    "CREDENTIALS = json.load(open(\"deepscan_credentials.json\"))\n",
    "REST_HOSTNAME = CREDENTIALS.get(\"rest_hostname\")\n",
    "TOKEN_ENDPOINT = CREDENTIALS.get(\"token_endpoint\")\n",
    "CLIENT_ID = CREDENTIALS.get(\"client_id\")\n",
    "CLIENT_SECRET = CREDENTIALS.get(\"client_secret\")"
   ],
   "metadata": {
    "collapsed": false
   },
   "id": "5eed5d41b088f8b"
  },
  {
   "cell_type": "markdown",
   "source": [
    "### 3. Creating a CloudDeepScan object\n",
    "Now let us create an object out of the CloudDeepScan class:"
   ],
   "metadata": {
    "collapsed": false
   },
   "id": "1188c63e416c8ea3"
  },
  {
   "cell_type": "code",
   "execution_count": null,
   "outputs": [],
   "source": [
    "deepscan = CloudDeepScan(\n",
    "    token_endpoint=TOKEN_ENDPOINT,\n",
    "    rest_hostname=REST_HOSTNAME,\n",
    "    client_id=CLIENT_ID,\n",
    "    client_secret=CLIENT_SECRET\n",
    ")"
   ],
   "metadata": {
    "collapsed": false
   },
   "id": "e863874c9c2592f7"
  },
  {
   "cell_type": "markdown",
   "source": [
    "### 4. Uploading a file to Cloud Deep Scan\n",
    "Since we now have a CloudDeepScan object, we can do our first action: upload a file to Cloud Deep Scan for analysis."
   ],
   "metadata": {
    "collapsed": false
   },
   "id": "aa398f55d1497844"
  },
  {
   "cell_type": "code",
   "execution_count": null,
   "outputs": [],
   "source": [
    "submission_id = deepscan.upload_sample(\n",
    "    sample_path=\"path_to_your_local_file\"\n",
    ")\n",
    "\n",
    "print(submission_id)"
   ],
   "metadata": {
    "collapsed": false
   },
   "id": "451bb2960799f81d"
  },
  {
   "cell_type": "markdown",
   "source": [
    "The `upload_sample` method uploads the file and returns a submission ID string. That is why we already assigned its return value to the `submission_id` variable."
   ],
   "metadata": {
    "collapsed": false
   },
   "id": "a0358fda0ed02f51"
  },
  {
   "cell_type": "markdown",
   "source": [
    "### 5. Getting the submission status data\n",
    "Since we stored the submission ID into the `submission_id` variable, we can now use it to fetch various submission status data:"
   ],
   "metadata": {
    "collapsed": false
   },
   "id": "393cbb3cd78e0127"
  },
  {
   "cell_type": "code",
   "execution_count": null,
   "outputs": [],
   "source": [
    "status_data = deepscan.fetch_submission(submission_id=submission_id)\n",
    "\n",
    "print(str(status_data.created_at))\n",
    "print(status_data.status)\n",
    "print(status_data.report)"
   ],
   "metadata": {
    "collapsed": false
   },
   "id": "c35aee9cff67b37c"
  },
  {
   "cell_type": "markdown",
   "source": [
    "The three print statements, in the order presented, display the following data:\n",
    "- A timestamp for when the file submission was created\n",
    "- The status of our file submission\n",
    "- The analysis report for our file\n",
    "\n",
    "**Note:** The analysis report will be available after the analysis itself is finished. Also, the report can be lengthy so printing it out in the console for each file might not always be a good idea for your computer's resources."
   ],
   "metadata": {
    "collapsed": false
   },
   "id": "d4309a808f1dc048"
  },
  {
   "cell_type": "markdown",
   "source": [
    "### 6. Download the analysis report\n",
    "After we confirmed that the analysis report for our file is ready, we can download it to a local file."
   ],
   "metadata": {
    "collapsed": false
   },
   "id": "a4c1435c15a7bec9"
  },
  {
   "cell_type": "code",
   "execution_count": null,
   "outputs": [],
   "source": [
    "deepscan.download_report(\n",
    "    sample_hash=\"hash_of_our_uploaded_file\",\n",
    "    report_output_path=\"/path/to/new/local/file.json\"\n",
    ")"
   ],
   "metadata": {
    "collapsed": false
   },
   "id": "d9bb3e43e287b9c8"
  },
  {
   "cell_type": "markdown",
   "source": [
    "The `report_output_path` needs to lead to an existing folder and also need to include the name of the new local file as its last part.  \n",
    "\n",
    "If all steps were done correctly, you should have by now successfully **uploaded a file to Cloud Deep Scan**, **checked the status of the submission** and **downloaded the analysis report as a JSON file**."
   ],
   "metadata": {
    "collapsed": false
   },
   "id": "3c2a20db7fef0b48"
  }
 ],
 "metadata": {
  "kernelspec": {
   "display_name": "Python 3",
   "language": "python",
   "name": "python3"
  },
  "language_info": {
   "codemirror_mode": {
    "name": "ipython",
    "version": 2
   },
   "file_extension": ".py",
   "mimetype": "text/x-python",
   "name": "python",
   "nbconvert_exporter": "python",
   "pygments_lexer": "ipython2",
   "version": "2.7.6"
  }
 },
 "nbformat": 4,
 "nbformat_minor": 5
}
