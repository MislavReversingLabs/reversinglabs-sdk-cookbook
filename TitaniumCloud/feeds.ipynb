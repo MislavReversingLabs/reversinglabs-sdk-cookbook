{
 "cells": [
  {
   "cell_type": "markdown",
   "source": [
    "# TitaniumCloud feeds\n",
    "This notebook demonstrates how to use several TitaniumCloud feed API-s (feeds). Those API-s are called feeds due to providing continuous fresh data that can be fetched by applying certain filters and time periods.\n",
    "**NOTE:** If pasted into a Python file in the displayed order, all code cells can also work as a Python script."
   ],
   "metadata": {
    "collapsed": false
   },
   "id": "bb006d39ef36e335"
  },
  {
   "cell_type": "markdown",
   "source": [
    "### Covered API classes\n",
    "This notebook covers examples for the following API classes:\n",
    "- **NewMalwareFilesFeed** (*TCF-0101*)\n",
    "- **MWPChangeEventsFeed** (*TCF-0111*)\n",
    "- **NewMalwarePlatformFiltered** (*TCF-0102-0106*)\n",
    "    - This feed covers product numbers **from TCF-0102 to TCF-0106** and requires separate access rights for each of them.\n",
    "\n",
    "\n",
    "### Credentials\n",
    "Credentials are loaded from a local file instead of being written here in plain text.\n",
    "To learn how to creat the credentials file, see the **Storing and using the credentials** section in the [README file](./README.md)"
   ],
   "metadata": {
    "collapsed": false
   },
   "id": "718dba302a79d943"
  },
  {
   "cell_type": "markdown",
   "source": [
    "### 1. Importing the required classes\n",
    "First, we will import the required API class from the ticloud module."
   ],
   "metadata": {
    "collapsed": false
   },
   "id": "2402e10fb3109030"
  },
  {
   "cell_type": "code",
   "execution_count": null,
   "outputs": [],
   "source": [
    "from ReversingLabs.SDK.ticloud import NewMalwareFilesFeed, MWPChangeEventsFeed, NewMalwarePlatformFiltered"
   ],
   "metadata": {
    "collapsed": false
   },
   "id": "6a326a903331cb83"
  },
  {
   "cell_type": "markdown",
   "source": [
    "### 2. Loading the credentials\n",
    "Next, we will load our TitaniumCloud credentials from the local `ticloud_credentials.json` file.  \n",
    "**NOTE: Instead of doing this step, you can paste your credentials while creating the Python object in the following step.**"
   ],
   "metadata": {
    "collapsed": false
   },
   "id": "cddad0fbc438529f"
  },
  {
   "cell_type": "code",
   "execution_count": null,
   "outputs": [],
   "source": [
    "import json\n",
    "\n",
    "\n",
    "CREDENTIALS = json.load(open(\"ticloud_credentials.json\"))\n",
    "USERNAME = CREDENTIALS.get(\"username\")\n",
    "PASSWORD = CREDENTIALS.get(\"password\")"
   ],
   "metadata": {
    "collapsed": false
   },
   "id": "aea1f3a9cce0ca2d"
  },
  {
   "cell_type": "markdown",
   "source": [
    "### 3. New Malware Files Feed\n",
    "After we create an object from the NewMalwareFilesFeed class, we will be able to use its methods."
   ],
   "metadata": {
    "collapsed": false
   },
   "id": "6dac8032e2d27b2a"
  },
  {
   "cell_type": "code",
   "execution_count": null,
   "outputs": [],
   "source": [
    "new_malware_files = NewMalwareFilesFeed(\n",
    "    host=\"https://data.reversinglabs.com\",\n",
    "    username=USERNAME,\n",
    "    password=PASSWORD,\n",
    "    user_agent=\"ReversingLabs SDK cookbook\"\n",
    ")"
   ],
   "metadata": {
    "collapsed": false
   },
   "id": "1cd6387c470ad4a0"
  },
  {
   "cell_type": "markdown",
   "source": [
    "#### Pulling with a defined timestamp\n",
    "To pull the samples with a defined timestamp in the request we can do the following action. This will return the samples from the defined timestamp onwards. The time value can be defined as a Unix timestamp or as UTC time. Here we will demonstrate the use of a Unix timestamp.  \n",
    "**NOTE:** Make sure to change this timestamp to a preferred date instead before running this code cell."
   ],
   "metadata": {
    "collapsed": false
   },
   "id": "7938fd7c58534127"
  },
  {
   "cell_type": "code",
   "execution_count": null,
   "outputs": [],
   "source": [
    "response = new_malware_files.pull_with_timestamp(\n",
    "    time_format=\"timestamp\",\n",
    "    time_value=\"1697459211\"\n",
    ")\n",
    "\n",
    "print(response.text)"
   ],
   "metadata": {
    "collapsed": false
   },
   "id": "13e9fd79e643d636"
  },
  {
   "cell_type": "markdown",
   "source": [
    "#### Setting the start time\n",
    "Instead of defining the timestamp in our pull request, we can first define the start time for fetching samples and then continunously pull them using a separate method."
   ],
   "metadata": {
    "collapsed": false
   },
   "id": "28c4741c23437d17"
  },
  {
   "cell_type": "code",
   "execution_count": null,
   "outputs": [],
   "source": [
    "_ = new_malware_files.set_start(\n",
    "    time_format=\"timestamp\",\n",
    "    time_value=\"1697459211\"\n",
    ")\n",
    "\n",
    "response = new_malware_files.pull()\n",
    "\n",
    "print(response.text)"
   ],
   "metadata": {
    "collapsed": false
   },
   "id": "b4d51de074ecb9c8"
  }
 ],
 "metadata": {
  "kernelspec": {
   "display_name": "Python 3",
   "language": "python",
   "name": "python3"
  },
  "language_info": {
   "codemirror_mode": {
    "name": "ipython",
    "version": 2
   },
   "file_extension": ".py",
   "mimetype": "text/x-python",
   "name": "python",
   "nbconvert_exporter": "python",
   "pygments_lexer": "ipython2",
   "version": "2.7.6"
  }
 },
 "nbformat": 4,
 "nbformat_minor": 5
}
