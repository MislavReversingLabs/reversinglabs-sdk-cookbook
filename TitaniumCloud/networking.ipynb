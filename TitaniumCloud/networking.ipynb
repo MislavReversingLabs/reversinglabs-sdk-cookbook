{
 "cells": [
  {
   "cell_type": "markdown",
   "source": [
    "# TitaniumCloud networking API-s\n",
    "This notebook contains code examples for the networking API-s.\n",
    "**NOTE:** If pasted into a Python file in the displayed order, all code cells can also work as a Python script."
   ],
   "metadata": {
    "collapsed": false
   }
  },
  {
   "cell_type": "markdown",
   "source": [
    "### Covered API classes\n",
    "This notebook covers examples for the following API classes:\n",
    "- **AnalyzeURL** (*TCA-0404 - Analyze URL*)\n",
    "- **URLThreatIntelligence** (*TCA-0403 - URL Threat Intelligence*)\n",
    "- **DomainThreatIntelligence** (*TCA-0405 - Domain Threat Intelligence*)\n",
    "- **IPThreatIntelligence** (*TCA-0406 - IP Threat Intelligence*)\n",
    "- **NetworkReputation** (*TCA-0407 - Network Reputation API*)\n",
    "- **NetworkReputationUserOverride** (*TCA-0408 - Network Reputation User Override API*)\n",
    "\n",
    "### Credentials\n",
    "Credentials are loaded from a local file instead of being written here in plain text.\n",
    "To learn how to creat the credentials file, see the **Storing and using the credentials** section in the [README file](./README.md)"
   ],
   "metadata": {
    "collapsed": false
   }
  },
  {
   "cell_type": "markdown",
   "source": [
    "### 1. Importing the required classes\n",
    "First, we will import the required API classes from the ticloud module."
   ],
   "metadata": {
    "collapsed": false
   }
  },
  {
   "cell_type": "code",
   "execution_count": 1,
   "outputs": [],
   "source": [
    "from ReversingLabs.SDK.ticloud import AnalyzeURL, URLThreatIntelligence, DomainThreatIntelligence, IPThreatIntelligence, NetworkReputation, NetworkReputationUserOverride"
   ],
   "metadata": {
    "collapsed": false,
    "ExecuteTime": {
     "end_time": "2024-01-07T19:17:35.576403198Z",
     "start_time": "2024-01-07T19:17:35.553463444Z"
    }
   }
  },
  {
   "cell_type": "markdown",
   "source": [
    "### 2. Loading the credentials\n",
    "Next, we will load our TitaniumCloud credentials from the local `ticloud_credentials.json` file.\n",
    "**NOTE: Instead of doing this step, you can paste your credentials while creating the Python object in the following step.**"
   ],
   "metadata": {
    "collapsed": false
   }
  },
  {
   "cell_type": "code",
   "execution_count": 2,
   "outputs": [],
   "source": [
    "import json\n",
    "\n",
    "\n",
    "CREDENTIALS = json.load(open(\"ticloud_credentials.json\"))\n",
    "USERNAME = CREDENTIALS.get(\"username\")\n",
    "PASSWORD = CREDENTIALS.get(\"password\")"
   ],
   "metadata": {
    "collapsed": false,
    "ExecuteTime": {
     "end_time": "2024-01-07T19:17:39.682176552Z",
     "start_time": "2024-01-07T19:17:39.678075455Z"
    }
   }
  },
  {
   "cell_type": "markdown",
   "source": [
    "### 3. Domain threat intelligence\n",
    "\n",
    "#### Domain report\n",
    "We will start by fetching threat intelligence data for a domain string. Let us say that the following domain has popped up in a recent analysis campaign someone performed: *\"kosmikband.com\"*\n",
    "\n",
    "To get a domain analysis report from a DomainThreatIntelligence object, we need to do the following:"
   ],
   "metadata": {
    "collapsed": false
   }
  },
  {
   "cell_type": "code",
   "execution_count": 3,
   "outputs": [
    {
     "name": "stdout",
     "output_type": "stream",
     "text": [
      "{\"rl\": {\"last_dns_records\": [{\"type\": \"A\", \"value\": \"166.62.94.189\", \"provider\": \"ReversingLabs\"}], \"last_dns_records_time\": \"2023-07-30T05:04:49\", \"third_party_reputations\": {\"sources\": [{\"detection\": \"undetected\", \"source\": \"phishing_database\", \"update_time\": \"2024-01-05T15:35:43\"}, {\"detection\": \"undetected\", \"source\": \"0xSI_f33d\", \"update_time\": \"2024-01-07T06:20:41\"}, {\"detection\": \"malicious\", \"source\": \"cyradar\", \"update_time\": \"2023-12-18T05:50:33\", \"detect_time\": \"2023-02-05T06:34:10\"}, {\"detection\": \"malicious\", \"source\": \"adminus_labs\", \"update_time\": \"2024-01-07T18:14:59\", \"detect_time\": \"2023-11-28T12:00:49\"}, {\"detection\": \"undetected\", \"source\": \"apwg\", \"update_time\": \"2024-01-07T14:03:04\"}, {\"detection\": \"malicious\", \"source\": \"netstar\", \"update_time\": \"2024-01-07T17:48:28\", \"detect_time\": \"2023-09-22T10:51:58\", \"categories\": [\"malware_file\"]}, {\"detection\": \"undetected\", \"source\": \"threatfox_abuse_ch\", \"update_time\": \"2024-01-07T16:20:17\"}, {\"detection\": \"undetected\", \"source\": \"botvrij\", \"update_time\": \"2024-01-07T02:25:59\"}, {\"detection\": \"undetected\", \"source\": \"comodo_valkyrie\", \"update_time\": \"2024-01-07T17:53:09\"}, {\"detection\": \"undetected\", \"source\": \"osint\", \"update_time\": \"2024-01-07T01:30:26\"}, {\"detection\": \"undetected\", \"source\": \"crdf\", \"update_time\": \"2024-01-07T13:29:57\", \"detect_time\": \"2024-01-05T06:33:22\"}, {\"detect_time\": \"2024-01-07T19:18:21\", \"detection\": \"malicious\", \"update_time\": \"2024-01-07T19:18:21\", \"categories\": [\"audio\", \"entertainment\", \"suspicious\"], \"source\": \"alphamountain\"}, {\"detect_time\": \"2024-01-07T19:18:20\", \"detection\": \"undetected\", \"update_time\": \"2024-01-07T19:18:20\", \"categories\": [\"media_file_download\"], \"source\": \"forcepoint\"}], \"statistics\": {\"total\": 13, \"malicious\": 4, \"undetected\": 9, \"clean\": 0}}, \"top_threats\": [{\"threat_name\": \"ByteCode-MSIL.Downloader.RemcosRAT\", \"threat_level\": 3, \"files_count\": 2}, {\"threat_name\": \"ByteCode-MSIL.Trojan.Seraph\", \"threat_level\": 5, \"files_count\": 1}, {\"threat_name\": \"Win32.Trojan.Generic\", \"threat_level\": 5, \"files_count\": 1}, {\"threat_name\": \"ByteCode-MSIL.Trojan.RealProtect\", \"threat_level\": 5, \"files_count\": 1}, {\"threat_name\": \"ByteCode-MSIL.Trojan.PsDownload\", \"threat_level\": 5, \"files_count\": 1}], \"modified_time\": \"2024-01-07T19:18:21\", \"downloaded_files_statistics\": {\"known\": 41, \"unknown\": 0, \"suspicious\": 2, \"total\": 55, \"malicious\": 12}, \"requested_domain\": \"kosmikband.com\"}}\n"
     ]
    }
   ],
   "source": [
    "DOMAIN = \"kosmikband.com\"\n",
    "\n",
    "domain_ti = DomainThreatIntelligence(\n",
    "    host=\"https://data.reversinglabs.com\",\n",
    "    username=USERNAME,\n",
    "    password=PASSWORD,\n",
    "    user_agent=\"ReversingLabs SDK cookbook\"\n",
    ")\n",
    "\n",
    "domain_report = domain_ti.get_domain_report(domain=DOMAIN)\n",
    "\n",
    "report_text = domain_report.text\n",
    "print(report_text)"
   ],
   "metadata": {
    "collapsed": false,
    "ExecuteTime": {
     "end_time": "2024-01-07T19:18:21.030319452Z",
     "start_time": "2024-01-07T19:18:20.708115579Z"
    }
   }
  },
  {
   "cell_type": "markdown",
   "source": [
    "From the domain analysis report we can see that several reputation sources classified that domain as malicious. Also, we can see the list of top threats found withing that domain:\n",
    "```\n",
    "\"top_threats\": [\n",
    "            {\n",
    "                \"threat_name\": \"ByteCode-MSIL.Trojan.Generic\",\n",
    "                \"threat_level\": 5,\n",
    "                \"files_count\": 2\n",
    "            },\n",
    "            {\n",
    "                \"threat_name\": \"ByteCode-MSIL.Downloader.RemcosRAT\",\n",
    "                \"threat_level\": 3,\n",
    "                \"files_count\": 2\n",
    "            },\n",
    "            {\n",
    "                \"threat_name\": \"ByteCode-MSIL.Trojan.Seraph\",\n",
    "                \"threat_level\": 5,\n",
    "                \"files_count\": 1\n",
    "            },\n",
    "            {\n",
    "                \"threat_name\": \"Win32.Trojan.Generic\",\n",
    "                \"threat_level\": 5,\n",
    "                \"files_count\": 1\n",
    "            },\n",
    "            {\n",
    "                \"threat_name\": \"ByteCode-MSIL.Trojan.RealProtect\",\n",
    "                \"threat_level\": 5,\n",
    "                \"files_count\": 1\n",
    "            }\n",
    "        ]\n",
    "```\n",
    "\n",
    "#### Domain-to-IP resolutions\n",
    "Let us take the domain whose report we just analyzed and send it to the Domain-to-IP resolutions endpoint. This will give us a list of IP addresses into which our domain resolves."
   ],
   "metadata": {
    "collapsed": false
   }
  },
  {
   "cell_type": "code",
   "execution_count": 4,
   "outputs": [
    {
     "name": "stdout",
     "output_type": "stream",
     "text": [
      "{\"rl\": {\"resolutions\": [{\"ip\": \"166.62.94.189\", \"provider\": \"ReversingLabs\", \"last_resolution_time\": \"2023-07-30T05:04:49\"}], \"requested_domain\": \"kosmikband.com\"}}\n"
     ]
    }
   ],
   "source": [
    "domain_to_ip = domain_ti.domain_to_ip_resolutions(domain=DOMAIN)\n",
    "\n",
    "domain_to_ip_text = domain_to_ip.text\n",
    "print(domain_to_ip_text)"
   ],
   "metadata": {
    "collapsed": false,
    "ExecuteTime": {
     "end_time": "2024-01-07T19:18:26.219508489Z",
     "start_time": "2024-01-07T19:18:26.125723211Z"
    }
   }
  },
  {
   "cell_type": "markdown",
   "source": [
    "In this particular case, we can see that our domain resolves into one IP address and that the provider of this resolution information is ReversingLabs.  \n",
    "Now we will parse the resolutions report and get that IP address from it."
   ],
   "metadata": {
    "collapsed": false
   }
  },
  {
   "cell_type": "code",
   "execution_count": 5,
   "outputs": [],
   "source": [
    "resolved_ips = domain_to_ip.json()\n",
    "resolutions = resolved_ips.get(\"rl\").get(\"resolutions\")\n",
    "IP_ADDR = resolutions[0].get(\"ip\")"
   ],
   "metadata": {
    "collapsed": false,
    "ExecuteTime": {
     "end_time": "2024-01-07T19:18:32.029977940Z",
     "start_time": "2024-01-07T19:18:32.027096143Z"
    }
   }
  },
  {
   "cell_type": "markdown",
   "source": [
    "Since we saw that we have only one IP address in that list, it is safe for us to simply fetch it using its position number.  \n",
    "Now we will store that IP address into the `ip_addr` variable for later use.\n",
    "\n",
    "\n",
    "### 4. IP threat intelligence\n",
    "To get a list of URL-s associated with an IP address, we can use the `urls_from_ip` method from the `IPThreatIntelligence` class.  \n",
    "The IP address is already stored in the `ip_addr` variable and can be used in our next step."
   ],
   "metadata": {
    "collapsed": false
   }
  },
  {
   "cell_type": "code",
   "execution_count": 6,
   "outputs": [
    {
     "name": "stdout",
     "output_type": "stream",
     "text": [
      "{\"rl\": {\"requested_ip\": \"166.62.94.189\", \"urls\": [{\"url\": \"https://kosmikband.com/wwp-admin/Ryivnmiwq.mp3\"}, {\"url\": \"https://kosmikband.com/wwp-admin/ebeIxCYaLbUwenBP117.bin\"}, {\"url\": \"https://kosmikband.com/wwp-admin/mFcFUeITalTA135.bin\"}, {\"url\": \"https://kosmikband.com/wtrash/Xnhkqwofkce.dll\"}, {\"url\": \"http://kosmikband.com/\"}, {\"url\": \"https://kosmikband.com/wwp-admin/Vcmhjondqi.wav\"}, {\"url\": \"https://kosmikband.com/wwp-admin/Pmbpzwcgpw.wav\"}, {\"url\": \"https://kosmikband.com/wtrash/Drxfqw.png\"}, {\"url\": \"http://kosmikband.com/wwp-admin/dYLsoKNKYARkCRYSNY48.bin\"}, {\"url\": \"http://kosmikband.com/wwp-admin/Bodymjpa.png\"}, {\"url\": \"https://kosmikband.com/wtrash/adpc.exe\"}, {\"url\": \"https://kosmikband.com/wwp-admin/Upeadsixyrg.dat\"}, {\"url\": \"https://kosmikband.com/wwp-admin/FJlQiDhCJnOPF234.bin\"}, {\"url\": \"http://kosmikband.com/wwp-admin/uAxsySWJsSmbQlhE25.bin\"}, {\"url\": \"https://kosmikband.com/wtrash/dfv.exe\"}, {\"url\": \"https://kosmikband.com/wtrash/Seynhbpdqbk.dll\"}, {\"url\": \"https://kosmikband.com/wtrash/Rcegjxdrgak.png\"}, {\"url\": \"https://kosmikband.com/wwp-admin/Xxidmfjlv.vdf\"}, {\"url\": \"https://kosmikband.com/wtrash/pdrf.exe\"}, {\"url\": \"http://kosmikband.com/wwp-admin/mnd.bat\"}, {\"url\": \"https://kosmikband.com/wtrash/Sqgsnl.dat\"}, {\"url\": \"https://kosmikband.com/wtrash/Olfzlidllm.exe\"}, {\"url\": \"https://kosmikband.com/wwp-admin/Bodymjpa.png\"}, {\"url\": \"http://kosmikband.com/wwp-admin/Ryivnmiwq.mp3\"}, {\"url\": \"http://kosmikband.com/wwp-admin/Pmbpzwcgpw.wav\"}, {\"url\": \"https://kosmikband.com/wwp-admin/YgiMpzmlakX158.bin\"}, {\"url\": \"http://kosmikband.com/wtrash/gfdr.exe\"}, {\"url\": \"https://oneness-yoga.com/\"}, {\"url\": \"https://kosmikband.com/wtrash/Siebtrfreln.bmp\"}, {\"url\": \"http://kosmikband.com/wwp-admin/DEXObRIFXgTb77.bin\"}, {\"url\": \"https://kosmikband.com/wwp-admin/DEXObRIFXgTb77.bin\"}, {\"url\": \"http://kosmikband.com/wwp-admin/ebeIxCYaLbUwenBP117.bin\"}, {\"url\": \"http://kosmikband.com/wtrash/Duevgty.dll\"}, {\"url\": \"https://kosmikband.com/wtrash/pddf.exe\"}, {\"url\": \"https://kosmikband.com/wtrash/Gwtodthgky.png\"}, {\"url\": \"http://kosmikband.com/wwp-admin/\"}, {\"url\": \"https://kosmikband.com/wtrash/Yflit.png\"}, {\"url\": \"http://kosmikband.com/wwp-admin/mFcFUeITalTA135.bin\"}, {\"url\": \"https://kosmikband.com/wtrash/Ujdry.dll\"}, {\"url\": \"http://kosmikband.com/wtrash/Drxfqw.png\"}, {\"url\": \"http://kosmikband.com/wtrash/Iacslso.png\"}, {\"url\": \"https://kosmikband.com/wwp-admin/eNMMZWQV200.bin\"}, {\"url\": \"http://kosmikband.com/wwp-admin/iivQpikiqleHPlWVRQoI57.bin\"}, {\"url\": \"http://kosmikband.com/wtrash/dfv.exe\"}, {\"url\": \"http://kosmikband.com/wtrash/bgt.exe\"}, {\"url\": \"https://kosmikband.com/wwp-admin/\"}, {\"url\": \"https://kosmikband.com/wtrash/Sgbhqhvv.dll\"}, {\"url\": \"https://kosmikband.com/wtrash/Dfdih.dll\"}, {\"url\": \"https://kosmikband.com/wtrash/Cppvp.exe\"}, {\"url\": \"https://kosmikband.com/wwp-admin/lmk.scr\"}, {\"url\": \"https://kosmikband.com/wwp-admin/Dlcbglnhgkl.wav\"}, {\"url\": \"https://oo.academy/home/\"}, {\"url\": \"https://mailrelay.worldonenessfoundation.org/\"}, {\"url\": \"http://kosmikband.com/wwp-admin/WFdUITfyiVLNjywO42.bin\"}, {\"url\": \"http://kosmikband.com/wwp-admin/TBsXCC148.bin\"}, {\"url\": \"https://mta.worldonenessfoundation.org/\"}, {\"url\": \"http://kosmikband.com/wwp-admin/FJlQiDhCJnOPF234.bin\"}, {\"url\": \"https://kosmikband.com/wtrash/Zwwvlymbedb.dll\"}, {\"url\": \"https://kosmikband.com/wwp-admin/pygjGuXg86.bin\"}, {\"url\": \"https://kosmikband.com/\"}, {\"url\": \"https://kosmikband.com/wtrash/\"}, {\"url\": \"http://kosmikband.com/wwp-admin/pygjGuXg86.bin\"}, {\"url\": \"https://kosmikband.com/wtrash/Banca%20Comerciala%20Romana%20Payment%20Copy.exe\"}, {\"url\": \"https://kosmikband.com/wwp-admin/uAxsySWJsSmbQlhE25.bin\"}, {\"url\": \"https://kosmikband.com/wwp-admin/WFdUITfyiVLNjywO42.bin\"}, {\"url\": \"https://kosmikband.com/wtrash/Duevgty.dll\"}, {\"url\": \"https://oo.academy/\"}, {\"url\": \"https://kosmikband.com/wwp-admin/Nixlxaaxsx.dat\"}, {\"url\": \"https://kosmikband.com/wwp-admin/dYLsoKNKYARkCRYSNY48.bin\"}, {\"url\": \"https://kosmikband.com/wwp-admin/iivQpikiqleHPlWVRQoI57.bin\"}, {\"url\": \"http://kosmikband.com/wwp-admin/YgiMpzmlakX158.bin\"}, {\"url\": \"http://kosmikband.com/wwp-admin/Vcmhjondqi.wav\"}, {\"url\": \"https://kosmikband.com/wtrash/Ygezyi.dat\"}, {\"url\": \"https://kosmikband.com/wwp-admin/mnd.bat\"}, {\"url\": \"http://kosmikband.com/wwp-admin/Upeadsixyrg.dat\"}, {\"url\": \"http://kosmikband.com/wwp-admin/AhCsgKW0.bin\"}, {\"url\": \"https://kosmikband.com/wtrash/bgt.exe\"}, {\"url\": \"http://kosmikband.com/wwp-admin/lmk.scr\"}, {\"url\": \"https://kosmikband.com/wwp-admin/Xullal.dll\"}, {\"url\": \"https://kosmikband.com/wtrash/sdz.exe\"}, {\"url\": \"https://kosmikband.com/wwp-admin/AhCsgKW0.bin\"}, {\"url\": \"https://kosmikband.com/wtrash/Nxbdlckcf.dll\"}]}}\n"
     ]
    }
   ],
   "source": [
    "ip_ti = IPThreatIntelligence(\n",
    "    host=\"https://data.reversinglabs.com\",\n",
    "    username=USERNAME,\n",
    "    password=PASSWORD,\n",
    "    user_agent=\"ReversingLabs SDK cookbook\"\n",
    ")\n",
    "\n",
    "ip_urls = ip_ti.urls_from_ip(ip_address=IP_ADDR)\n",
    "\n",
    "ip_urls_text = ip_urls.text\n",
    "print(ip_urls_text)"
   ],
   "metadata": {
    "collapsed": false,
    "ExecuteTime": {
     "end_time": "2024-01-07T19:18:40.069173697Z",
     "start_time": "2024-01-07T19:18:39.952467985Z"
    }
   }
  },
  {
   "cell_type": "markdown",
   "source": [
    "The list of URL-s associated with our IP address is lengthy. If we want to gather all the valuable information about these URL-s from TitaniumCloud, we need to fetch the analysis report for each of them. In order not to bomb our tutorial with thousands of lines of report, we will only fetch the analysis report for the first URL."
   ],
   "metadata": {
    "collapsed": false
   }
  },
  {
   "cell_type": "markdown",
   "source": [
    "### 5. URL threat intelligence\n",
    "The URL threat intelligence API also offers several different endpoints for URL analysis. We will demonstrate the results from two of them:\n",
    "\n",
    "#### URL report\n",
    "Since we know with confidence that our previously generated list of URL-s contains some entries (is not empty), we can safely parse out just the first URL from that list:\n"
   ],
   "metadata": {
    "collapsed": false
   }
  },
  {
   "cell_type": "code",
   "execution_count": 7,
   "outputs": [],
   "source": [
    "associated_urls = ip_urls.json()\n",
    "url_list = associated_urls.get(\"rl\").get(\"urls\")\n",
    "URL = url_list[0].get(\"url\")"
   ],
   "metadata": {
    "collapsed": false,
    "ExecuteTime": {
     "end_time": "2024-01-07T19:18:45.796812411Z",
     "start_time": "2024-01-07T19:18:45.792708784Z"
    }
   }
  },
  {
   "cell_type": "markdown",
   "source": [
    "After we have parsed out the URL that we need, we will create a `URLThreatIntelligence` object and fetch an analysis report for our URL."
   ],
   "metadata": {
    "collapsed": false
   }
  },
  {
   "cell_type": "code",
   "execution_count": null,
   "outputs": [],
   "source": [
    "url_ti = URLThreatIntelligence(\n",
    "    host=\"https://data.reversinglabs.com\",\n",
    "    username=USERNAME,\n",
    "    password=PASSWORD,\n",
    "    user_agent=\"ReversingLabs SDK cookbook\"\n",
    ")\n",
    "\n",
    "url_report = url_ti.get_url_report(url_input=URL)\n",
    "\n",
    "report_text = url_report.text\n",
    "print(report_text)"
   ],
   "metadata": {
    "collapsed": false
   }
  },
  {
   "cell_type": "markdown",
   "source": [
    "In this report output we can see the following interesting data:\n",
    "- Third party reputation sources - A list of third party reputation services and their classification of the provided URL.\n",
    "- Analysis history - A list of timestamped analyses of the provided URL.\n",
    "- Both the third party reputations and the analysis sections of the report also contain statistics lists which show how many sources returned which classification.\n",
    "- An overall classification of the provided URL, alongside the reason for that classification.\n",
    "\n",
    "#### Downloaded files\n",
    "Now we will fetch the list of files downloaded from our URL. Each listed file can also contain its reputation information."
   ],
   "metadata": {
    "collapsed": false
   }
  },
  {
   "cell_type": "code",
   "execution_count": null,
   "outputs": [],
   "source": [
    "dl_files = url_ti.get_downloaded_files(url_input=URL)\n",
    "\n",
    "dl_files_text = dl_files.text\n",
    "print(dl_files_text)"
   ],
   "metadata": {
    "collapsed": false
   }
  },
  {
   "cell_type": "markdown",
   "source": [
    "Here we can see a list of files found on our URL that were downloaded and analyzed by ReversingLabs. Each listed file also has its own reputation information. Although the files downloaded from a URL end up classified as `KNOWN`, that does not mean that the domain, IP addresses nor URL-s on which they have been found can be treated as safe. There are other mechanisms and rules for classifying those entities besides just analyzing the files found on them."
   ],
   "metadata": {
    "collapsed": false
   }
  },
  {
   "cell_type": "markdown",
   "source": [
    "### 6. Analyze URL\n",
    "In case there are no threat intelligence results available for a URL, we can always request them.  \n",
    "To send a URL for detailed analysis, use the `AnalyzeURL` class."
   ],
   "metadata": {
    "collapsed": false
   }
  },
  {
   "cell_type": "code",
   "execution_count": null,
   "outputs": [],
   "source": [
    "analyze = AnalyzeURL(\n",
    "    host=\"https://data.reversinglabs.com\",\n",
    "    username=USERNAME,\n",
    "    password=PASSWORD,\n",
    "    user_agent=\"ReversingLabs SDK cookbook\"\n",
    ")\n",
    "\n",
    "analyze_response = analyze.submit_url(url_input=URL)\n",
    "\n",
    "analyze_response_text = analyze_response.text\n",
    "print(analyze_response_text)"
   ],
   "metadata": {
    "collapsed": false
   }
  },
  {
   "cell_type": "markdown",
   "source": [],
   "metadata": {
    "collapsed": false
   }
  },
  {
   "cell_type": "markdown",
   "source": [
    "If the action was successful, we will see a response which confirms us that the URL was **submitted** for analysis.  \n",
    "Usually a fresh analysis takes some time to finish, depending on the complexity of the provided URL. You can check the completion of the report along the way.\n",
    "\n",
    "After the URL analysis is done, we can again fetch any of the available info generated from analyzing the provided URL.\n"
   ],
   "metadata": {
    "collapsed": false
   }
  },
  {
   "cell_type": "markdown",
   "source": [
    "### 7. Network Reputation\n",
    "Aside from doing extensive network indicator analysis with the aforementioned API-s, you can also request a very straightforward and concise network reputation request for URL-s, domains and IP addresses. See the following example:"
   ],
   "metadata": {
    "collapsed": false
   }
  },
  {
   "cell_type": "code",
   "execution_count": 8,
   "outputs": [
    {
     "name": "stdout",
     "output_type": "stream",
     "text": [
      "{\"rl\": {\"entries\": [{\"type\": \"url\", \"requested_network_location\": \"https://kosmikband.com/wwp-admin/Ryivnmiwq.mp3\", \"associated_malware\": false, \"first_seen\": \"2023-11-28T23:14:26\", \"last_seen\": \"2023-11-29T03:48:01\", \"classification\": \"malicious\", \"reason\": \"third_party_reputation\", \"third_party_reputations\": {\"total\": 19, \"undetected\": 17, \"malicious\": 2, \"clean\": 0}}]}}\n"
     ]
    }
   ],
   "source": [
    "network_reputation = NetworkReputation(\n",
    "    host=\"https://data.reversinglabs.com\",\n",
    "    username=USERNAME,\n",
    "    password=PASSWORD,\n",
    "    user_agent=\"ReversingLabs SDK cookbook\"\n",
    ")\n",
    "\n",
    "reputation_response = network_reputation.get_network_reputation(network_locations=[URL])\n",
    "\n",
    "reputation_response_text = reputation_response.text\n",
    "print(reputation_response_text)"
   ],
   "metadata": {
    "collapsed": false,
    "ExecuteTime": {
     "end_time": "2024-01-07T19:19:01.945281531Z",
     "start_time": "2024-01-07T19:19:01.868344869Z"
    }
   }
  },
  {
   "cell_type": "markdown",
   "source": [
    "### 8. Network Reputation User Override\n",
    "The Network Reputation User Override API goes hand in hand with the Network Reputation API. What it does is **set your desired classification value** onto a URL indicator. This custom classification is applicable on samples available to your TitaniumCloud account.  \n",
    "Possible classification values, as always, are **MALICIOUS**, **SUSPICIOUS** and **KNOWN**.  \n",
    "Other functionalities of this API include **listing the active overrides** and **removing active overrides**. See the below examples of each of those functionalities.\n",
    "\n",
    "**NOTE:** Unlike the Network Reputation API, this API currently accepts only URL indicators as they are the only ones that return a ReversingLabs classification value in their reputation report.\n",
    "\n",
    "#### Set Reputation Override"
   ],
   "metadata": {
    "collapsed": false
   }
  },
  {
   "cell_type": "code",
   "execution_count": 11,
   "outputs": [
    {
     "name": "stdout",
     "output_type": "stream",
     "text": [
      "{\"rl\": {\"user_override\": {\"created_overrides\": [{\"network_location\": \"https://kosmikband.com/wwp-admin/Ryivnmiwq.mp3\", \"classification\": \"SUSPICIOUS\", \"type\": \"url\", \"reason\": \"user_override\"}]}}}\n"
     ]
    }
   ],
   "source": [
    "reputation_override = NetworkReputationUserOverride(\n",
    "    host=\"https://data.reversinglabs.com\",\n",
    "    username=USERNAME,\n",
    "    password=PASSWORD,\n",
    "    user_agent=\"ReversingLabs SDK cookbook\"\n",
    ")\n",
    "\n",
    "url_indicator = {\n",
    "    \"network_location\": URL,\n",
    "    \"classification\": \"SUSPICIOUS\",\n",
    "    \"type\": \"url\"\n",
    "}\n",
    "\n",
    "override_response = reputation_override.reputation_override(override_list=[url_indicator])\n",
    "print(override_response.text)"
   ],
   "metadata": {
    "collapsed": false,
    "ExecuteTime": {
     "end_time": "2024-01-07T19:20:31.221744348Z",
     "start_time": "2024-01-07T19:20:31.124131656Z"
    }
   }
  },
  {
   "cell_type": "markdown",
   "source": [
    "Here we can see that our custom classification for this URL indicator is set to \"SUSPICIOUS\" within our TitaniumCloud account."
   ],
   "metadata": {
    "collapsed": false
   }
  },
  {
   "cell_type": "markdown",
   "source": [
    "#### List Active Reputation Overrides\n",
    "The result of this action shows that we have an active reputation override set for our selected URL indicator."
   ],
   "metadata": {
    "collapsed": false
   }
  },
  {
   "cell_type": "code",
   "execution_count": 13,
   "outputs": [
    {
     "name": "stdout",
     "output_type": "stream",
     "text": [
      "[{'network_location': 'https://kosmikband.com/wwp-admin/Ryivnmiwq.mp3', 'type': 'url'}, {'network_location': 'https://cisco.com/', 'type': 'url'}, {'network_location': 'http://banco.colpatria.com.co/banca-virtual/login/', 'type': 'url'}, {'network_location': 'http://cvisd.com/', 'type': 'url'}, {'network_location': 'https://ca-sil.com/', 'type': 'url'}, {'network_location': 'http://partner.frontread.com/', 'type': 'url'}, {'network_location': 'https://eclipse.org/', 'type': 'url'}, {'network_location': 'http://163.197.220.144/5x8x', 'type': 'url'}, {'network_location': 'https://ajestudios.com/', 'type': 'url'}, {'network_location': 'https://openairmt.org/', 'type': 'url'}, {'network_location': 'https://engadget.com/', 'type': 'url'}, {'network_location': 'https://synnexfpt.com/', 'type': 'url'}, {'network_location': 'https://nuernberger.digital/', 'type': 'url'}, {'network_location': 'http://winwam.com/', 'type': 'url'}, {'network_location': 'https://jetmaterials.com/', 'type': 'url'}, {'network_location': 'https://applevalleynewsnow.com/', 'type': 'url'}, {'network_location': 'https://ticketshop.pitmodule.de/shop/spkrheinhaardt/participate/328793', 'type': 'url'}, {'network_location': 'http://blundstone-france.clients.ionata.com.au/', 'type': 'url'}, {'network_location': 'https://tawaseen.com/', 'type': 'url'}, {'network_location': 'http://readme.md/', 'type': 'url'}, {'network_location': 'http://changeip.com/', 'type': 'url'}, {'network_location': 'https://facebook.github.io/watchman/', 'type': 'url'}, {'network_location': 'http://openaip.net/', 'type': 'url'}, {'network_location': 'https://asp.net/', 'type': 'url'}, {'network_location': 'https://digitalocean.com/', 'type': 'url'}, {'network_location': 'https://ilpolodigitale.com/', 'type': 'url'}, {'network_location': 'http://facebook.github.io/watchman/', 'type': 'url'}, {'network_location': 'https://howden-rs.com/', 'type': 'url'}, {'network_location': 'https://lacoste.com.au/', 'type': 'url'}, {'network_location': 'https://ateneaintercambios.com/', 'type': 'url'}, {'network_location': 'http://openairmt.org/', 'type': 'url'}, {'network_location': 'http://tawaseen.com/', 'type': 'url'}, {'network_location': 'https://theenergyst.com/', 'type': 'url'}, {'network_location': 'https://health1.ngage.ai/', 'type': 'url'}, {'network_location': 'https://nlg.co.uk/', 'type': 'url'}, {'network_location': 'https://banco.colpatria.com.co/banca-virtual/login', 'type': 'url'}, {'network_location': 'https://httpd.apache.org/', 'type': 'url'}, {'network_location': 'http://app.futuresimple.com/apis/linkr/track/ee54e6d8-a680-4dc3-9e87-2102f204b41c', 'type': 'url'}, {'network_location': 'http://health1.ngage.ai/', 'type': 'url'}, {'network_location': 'http://vpic1.com.vn/', 'type': 'url'}, {'network_location': 'https://hmco.com.pk/', 'type': 'url'}, {'network_location': 'http://jetmaterials.com/', 'type': 'url'}, {'network_location': 'https://geniedeslieux.com/', 'type': 'url'}, {'network_location': 'https://elearning-journal.com/', 'type': 'url'}, {'network_location': 'https://vpic1.com.vn/', 'type': 'url'}, {'network_location': 'http://examplexxx.com/', 'type': 'url'}, {'network_location': 'https://winwam.com/', 'type': 'url'}, {'network_location': 'https://hbcua.com/', 'type': 'url'}, {'network_location': 'http://carrefour.ondetah.com.br/', 'type': 'url'}, {'network_location': 'https://amazon.com/', 'type': 'url'}, {'network_location': 'http://apired.amipass.cl/banner/logo-amipass.jpg', 'type': 'url'}, {'network_location': 'https://partner.frontread.com/', 'type': 'url'}, {'network_location': 'http://imagemagick.org/', 'type': 'url'}, {'network_location': 'http://lendingfront.com/', 'type': 'url'}, {'network_location': 'https://readme.md/', 'type': 'url'}, {'network_location': 'https://indeyex.hr/', 'type': 'url'}, {'network_location': 'https://k-h.co.il/', 'type': 'url'}, {'network_location': 'http://hmco.com.pk/', 'type': 'url'}, {'network_location': 'http://cdn.ana-mileagemall.net/uploads/330x180/64/f9700f6c53712e2704882dcff2b94cc9.jpg', 'type': 'url'}, {'network_location': 'http://ticketshop.pitmodule.de/shop/spkrheinhaardt/participate/328793', 'type': 'url'}, {'network_location': 'https://cnn.com/', 'type': 'url'}, {'network_location': 'https://cvisd.com/', 'type': 'url'}, {'network_location': 'http://recepcion.grupogondi.com/', 'type': 'url'}, {'network_location': 'https://amiljan.com/', 'type': 'url'}, {'network_location': 'https://lendingfront.com/', 'type': 'url'}, {'network_location': 'http://ilpolodigitale.com/', 'type': 'url'}, {'network_location': 'http://nlg.co.uk/', 'type': 'url'}, {'network_location': 'http://synnexfpt.com/', 'type': 'url'}, {'network_location': 'http://fordit-tstdrv-dt1.cloud.pega.net/', 'type': 'url'}, {'network_location': 'https://bangladesh.edukopathways.com/', 'type': 'url'}, {'network_location': 'https://torproject.org/', 'type': 'url'}, {'network_location': 'https://masslibsystem.org/', 'type': 'url'}, {'network_location': 'http://howden-rs.com/', 'type': 'url'}, {'network_location': 'http://flickr.com/', 'type': 'url'}, {'network_location': 'http://lakeoilgroup.com/', 'type': 'url'}, {'network_location': 'https://battle.net/', 'type': 'url'}, {'network_location': 'http://masslibsystem.org/', 'type': 'url'}, {'network_location': 'http://open-air-kino.ch/', 'type': 'url'}, {'network_location': 'https://imagemagick.org/', 'type': 'url'}, {'network_location': 'http://amazon.com/', 'type': 'url'}, {'network_location': 'https://banco.colpatria.com.co/banca-virtual/login/', 'type': 'url'}, {'network_location': 'http://163.197.220.144/j.ad', 'type': 'url'}, {'network_location': 'https://lakeoilgroup.com/', 'type': 'url'}, {'network_location': 'http://nuernberger.digital/', 'type': 'url'}, {'network_location': 'http://example.com/', 'type': 'url'}, {'network_location': 'http://banco.colpatria.com.co/banca-virtual/login', 'type': 'url'}, {'network_location': 'https://apired.amipass.cl/banner/logo-amipass.jpg', 'type': 'url'}, {'network_location': 'http://theenergyst.com/', 'type': 'url'}, {'network_location': 'http://ateneaintercambios.com/', 'type': 'url'}, {'network_location': 'https://fordit-tstdrv-dt1.cloud.pega.net/', 'type': 'url'}, {'network_location': 'http://mds-mediaplanung.de/', 'type': 'url'}, {'network_location': 'http://volpro.net/', 'type': 'url'}, {'network_location': 'https://taxrxgroup.com/', 'type': 'url'}, {'network_location': 'https://weather.com/', 'type': 'url'}, {'network_location': 'http://mycloud.wisemo.com/', 'type': 'url'}, {'network_location': 'https://app.futuresimple.com/apis/linkr/track/ee54e6d8-a680-4dc3-9e87-2102f204b41c', 'type': 'url'}, {'network_location': 'https://mycloud.wisemo.com/', 'type': 'url'}, {'network_location': 'http://fundhub.openaid.be/', 'type': 'url'}, {'network_location': 'http://101.42.20.25/en_US/all.js', 'type': 'url'}, {'network_location': 'http://digitalocean.com/', 'type': 'url'}, {'network_location': 'http://torproject.org/', 'type': 'url'}, {'network_location': 'http://africanrisktransfer.com/', 'type': 'url'}, {'network_location': 'http://battle.net/', 'type': 'url'}, {'network_location': 'http://chiark.greenend.org.uk/~sgtatham/putty/', 'type': 'url'}, {'network_location': 'https://ftp.debian.org/', 'type': 'url'}, {'network_location': 'http://dyn.com/', 'type': 'url'}, {'network_location': 'http://northwoodmortgage.com/', 'type': 'url'}, {'network_location': 'http://cisco.com/', 'type': 'url'}, {'network_location': 'http://ftp.debian.org/', 'type': 'url'}, {'network_location': 'http://engadget.com/', 'type': 'url'}, {'network_location': 'http://ca-sil.com/', 'type': 'url'}, {'network_location': 'http://elearning-journal.com/', 'type': 'url'}, {'network_location': 'https://northwoodmortgage.com/', 'type': 'url'}, {'network_location': 'https://mds-mediaplanung.de/', 'type': 'url'}, {'network_location': 'http://hbcua.com/', 'type': 'url'}, {'network_location': 'https://blundstone-france.clients.ionata.com.au/', 'type': 'url'}, {'network_location': 'http://lacoste.com.au/', 'type': 'url'}, {'network_location': 'http://asp.net/', 'type': 'url'}, {'network_location': 'https://changeip.com/', 'type': 'url'}, {'network_location': 'http://eclipse.org/', 'type': 'url'}, {'network_location': 'https://dyn.com/', 'type': 'url'}, {'network_location': 'https://riviera-fuga.com/', 'type': 'url'}, {'network_location': 'http://geniedeslieux.com/', 'type': 'url'}, {'network_location': 'http://applevalleynewsnow.com/', 'type': 'url'}, {'network_location': 'http://ajestudios.com/', 'type': 'url'}, {'network_location': 'http://exampleyyy.com/', 'type': 'url'}, {'network_location': 'http://httpd.apache.org/', 'type': 'url'}, {'network_location': 'http://weather.com/', 'type': 'url'}, {'network_location': 'http://basis.in/', 'type': 'url'}, {'network_location': 'https://volpro.net/', 'type': 'url'}, {'network_location': 'http://k-h.co.il/', 'type': 'url'}, {'network_location': 'https://flickr.com/', 'type': 'url'}, {'network_location': 'https://carrefour.ondetah.com.br/', 'type': 'url'}, {'network_location': 'https://africanrisktransfer.com/', 'type': 'url'}, {'network_location': 'http://taxrxgroup.com/', 'type': 'url'}, {'network_location': 'http://amiljan.com/', 'type': 'url'}, {'network_location': 'http://cnn.com/', 'type': 'url'}, {'network_location': 'http://riviera-fuga.com/', 'type': 'url'}, {'network_location': 'https://fundhub.openaid.be/', 'type': 'url'}, {'network_location': 'https://open-air-kino.ch/', 'type': 'url'}, {'network_location': 'http://bangladesh.edukopathways.com/', 'type': 'url'}, {'network_location': 'https://recepcion.grupogondi.com/', 'type': 'url'}, {'network_location': 'https://cdn.ana-mileagemall.net/uploads/330x180/64/f9700f6c53712e2704882dcff2b94cc9.jpg', 'type': 'url'}, {'network_location': 'https://index.hr/', 'type': 'url'}, {'network_location': 'https://chiark.greenend.org.uk/~sgtatham/putty/', 'type': 'url'}, {'network_location': 'https://basis.in/', 'type': 'url'}]\n"
     ]
    }
   ],
   "source": [
    "override_response = reputation_override.list_overrides_aggregated()\n",
    "print(override_response)"
   ],
   "metadata": {
    "collapsed": false,
    "ExecuteTime": {
     "end_time": "2024-01-07T19:21:23.866616829Z",
     "start_time": "2024-01-07T19:21:23.811789071Z"
    }
   }
  },
  {
   "cell_type": "markdown",
   "source": [
    "#### Remove Active Reputation Override\n",
    "This action's result shows that we have successfully removed our custom reputation override for the desired URL indicator."
   ],
   "metadata": {
    "collapsed": false
   }
  },
  {
   "cell_type": "code",
   "execution_count": 14,
   "outputs": [
    {
     "name": "stdout",
     "output_type": "stream",
     "text": [
      "{\"rl\": {\"user_override\": {\"removed_overrides\": [{\"network_location\": \"https://kosmikband.com/wwp-admin/Ryivnmiwq.mp3\", \"type\": \"url\"}]}}}\n"
     ]
    }
   ],
   "source": [
    "url_indicator = {\n",
    "    \"network_location\": URL,\n",
    "    \"type\": \"url\"\n",
    "}\n",
    "\n",
    "override_response = reputation_override.reputation_override(remove_overrides_list=[url_indicator])\n",
    "print(override_response.text)"
   ],
   "metadata": {
    "collapsed": false,
    "ExecuteTime": {
     "end_time": "2024-01-07T19:22:09.450841354Z",
     "start_time": "2024-01-07T19:22:09.393035228Z"
    }
   }
  },
  {
   "cell_type": "markdown",
   "source": [
    "### 9. Advanced\n",
    "In case you want to configure any pre-set additional parameters in any of the demonstrated methods or if you want to use the methods that hande paging automatically, check the [7. Advanced](./file_reputation_and_analysis.ipynb) section in the reputation notebook."
   ],
   "metadata": {
    "collapsed": false
   }
  }
 ],
 "metadata": {
  "kernelspec": {
   "display_name": "Python 3",
   "language": "python",
   "name": "python3"
  },
  "language_info": {
   "codemirror_mode": {
    "name": "ipython",
    "version": 2
   },
   "file_extension": ".py",
   "mimetype": "text/x-python",
   "name": "python",
   "nbconvert_exporter": "python",
   "pygments_lexer": "ipython2",
   "version": "2.7.6"
  }
 },
 "nbformat": 4,
 "nbformat_minor": 0
}
