{
 "cells": [
  {
   "cell_type": "markdown",
   "source": [
    "# Essential TitaniumCloud file analysis and reputation API-s\n",
    "This notebook contains specific examples for the essential TitaniumCloud file reputation and analysis-related API-s.\n",
    "**NOTE:** If pasted into a Python file in the displayed order, all code cells can also work as a Python script."
   ],
   "metadata": {
    "collapsed": false
   }
  },
  {
   "cell_type": "markdown",
   "source": [
    "### Covered API classes\n",
    "This notebook covers examples for the following API classes:\n",
    "- **FileReputation** (*TCA-0101 - File Reputation (Malware Presence)*)\n",
    "- **AVScanners** (*TCA-0103 - Historic Multi-AV Scan Records*)\n",
    "- **FileAnalysis** (*TCA-0104 - File Analysis - Hash*)\n",
    "- **RHA1FunctionalSimilarity** (*TCA-0301 - RHA Functional Similarity (Group by RHA1)*)\n",
    "\n",
    "### Credentials\n",
    "Credentials are loaded from a local file instead of being written here in plain text.\n",
    "To learn how to creat the credentials file, see the **Storing and using the credentials** section in the [README file](./README.md)"
   ],
   "metadata": {
    "collapsed": false
   }
  },
  {
   "cell_type": "markdown",
   "source": [
    "### 1. Importing the required classes\n",
    "First, we will import the required API classes from the ticloud module."
   ],
   "metadata": {
    "collapsed": false
   }
  },
  {
   "cell_type": "code",
   "execution_count": 13,
   "outputs": [],
   "source": [
    "from ReversingLabs.SDK.ticloud import FileReputation, AVScanners, FileAnalysis, RHA1FunctionalSimilarity"
   ],
   "metadata": {
    "collapsed": false,
    "ExecuteTime": {
     "end_time": "2023-09-12T14:05:37.277725306Z",
     "start_time": "2023-09-12T14:05:37.236030567Z"
    }
   }
  },
  {
   "cell_type": "markdown",
   "source": [
    "### 2. Loading the credentials\n",
    "Next, we will load our TitaniumCloud credentials from the local `ticloud_credentials.json` file.\n",
    "**NOTE: Instead of doing this step, you can paste your credentials while creating the Python object in the following step.**\n",
    "\n",
    "Also, we will store the SHA-1 hash of a file we want to investigate into a variable called `FILE_HASH`."
   ],
   "metadata": {
    "collapsed": false
   }
  },
  {
   "cell_type": "code",
   "execution_count": 14,
   "outputs": [],
   "source": [
    "import json\n",
    "\n",
    "\n",
    "CREDENTIALS = json.load(open(\"ticloud_credentials.json\"))\n",
    "USERNAME = CREDENTIALS.get(\"username\")\n",
    "PASSWORD = CREDENTIALS.get(\"password\")\n",
    "USER_AGENT = \"ReversingLabs SDK Cookbook v1.0.2\"\n",
    "\n",
    "FILE_HASH = \"21841b32c6165b27dddbd4d6eb3a672defe54271\""
   ],
   "metadata": {
    "collapsed": false,
    "ExecuteTime": {
     "end_time": "2023-09-12T14:05:39.970608773Z",
     "start_time": "2023-09-12T14:05:39.966921789Z"
    }
   }
  },
  {
   "cell_type": "markdown",
   "source": [
    "### 3. Fetching the file reputation\n",
    "Next, we will create our first object out of the FileReputation class: file_reputation"
   ],
   "metadata": {
    "collapsed": false
   }
  },
  {
   "cell_type": "code",
   "execution_count": 15,
   "outputs": [],
   "source": [
    "file_reputation = FileReputation(\n",
    "    host=\"https://data.reversinglabs.com\",\n",
    "    username=USERNAME,\n",
    "    password=PASSWORD,\n",
    "    user_agent=USER_AGENT\n",
    ")"
   ],
   "metadata": {
    "collapsed": false
   }
  },
  {
   "cell_type": "markdown",
   "source": [
    "We will now use our `file_reputation` object to do a reputation lookup for the hash of our potentially malicious file."
   ],
   "metadata": {
    "collapsed": false
   }
  },
  {
   "cell_type": "code",
   "execution_count": null,
   "outputs": [],
   "source": [
    "reputation = file_reputation.get_file_reputation(\n",
    "    hash_input=FILE_HASH\n",
    ")\n",
    "\n",
    "reputation_text = reputation.text\n",
    "print(reputation_text)"
   ],
   "metadata": {
    "collapsed": false,
    "pycharm": {
     "is_executing": true
    }
   }
  },
  {
   "cell_type": "markdown",
   "source": [
    "Now we have the file reputation response stored in the `reputation` variable and also printed out in the console in text form.\n",
    "Among other information, from the file reputation response we can see the following:\n",
    "- This file is malicious - `\"status\": \"MALICIOUS\"`\n",
    "- Its threat name is Win32.Ransomware.Tox - `\"threat_name\": \"Win32.Ransomware.Tox\"`\n",
    "- There is a certain number of AV scanners, out of a total number of available AV scanners, that declared this file as harmful - `\"scanner_match\": 35`\n",
    "\n",
    "### 4. Fetching the AV scanner results\n",
    "These results provide malware detection verdicts of multiple antivirus scanners from the TitaniumCloud.\n",
    "To see which AV scanners declared the file as harmful, we can use the AVScanners class.\n",
    "To do so, we will again create an object:"
   ],
   "metadata": {
    "collapsed": false
   }
  },
  {
   "cell_type": "code",
   "execution_count": 17,
   "outputs": [],
   "source": [
    "av_scanners = AVScanners(\n",
    "    host=\"https://data.reversinglabs.com\",\n",
    "    username=USERNAME,\n",
    "    password=PASSWORD,\n",
    "    user_agent=USER_AGENT\n",
    ")"
   ],
   "metadata": {
    "collapsed": false,
    "ExecuteTime": {
     "end_time": "2023-09-12T14:05:46.058680637Z",
     "start_time": "2023-09-12T14:05:46.054449821Z"
    }
   }
  },
  {
   "cell_type": "markdown",
   "source": [
    "Now that we have our `av_scanners` object, we can fetch the AV scanner results from the API."
   ],
   "metadata": {
    "collapsed": false
   }
  },
  {
   "cell_type": "code",
   "execution_count": null,
   "outputs": [],
   "source": [
    "scanner_results = av_scanners.get_scan_results(\n",
    "    hash_input=FILE_HASH\n",
    ")\n",
    "\n",
    "results_text = scanner_results.text\n",
    "print(results_text)"
   ],
   "metadata": {
    "collapsed": false
   }
  },
  {
   "cell_type": "markdown",
   "source": [
    "To see which scanners were available, navigate to `\"rl\" -> \"sample -> \"xref\" -> \"scanners\"`  \n",
    "To see the verdict returned by each scanner, navigate to `\"rl\" -> \"sample -> \"xref\" -> \"results\"`  \n",
    "\n",
    "Other useful information included in the AV scanners report:\n",
    "- `\"sample_type\": \"PE32 executable (GUI) Intel 80386 (stripped to external PDB), for MS Windows, UPX compressed\"`\n",
    "- `\"sample_size\": 636416`\n",
    "\n",
    "### 5. Fetching the file analysis results\n",
    "To view the static analysis details of our malicious file, we can use the FileAnalysis class:"
   ],
   "metadata": {
    "collapsed": false
   }
  },
  {
   "cell_type": "code",
   "execution_count": null,
   "outputs": [],
   "source": [
    "analysis = FileAnalysis(\n",
    "    host=\"https://data.reversinglabs.com\",\n",
    "    username=USERNAME,\n",
    "    password=PASSWORD,\n",
    "    user_agent=USER_AGENT\n",
    ")\n",
    "\n",
    "analysis_results = analysis.get_analysis_results(\n",
    "    hash_input=FILE_HASH\n",
    ")\n",
    "\n",
    "analysis_text = analysis_results.text\n",
    "print(analysis_text)"
   ],
   "metadata": {
    "collapsed": false
   }
  },
  {
   "cell_type": "markdown",
   "source": [
    "By reading the analysis results, we can get the following useful information:\n",
    "- `\"sample_size\": 636416`\n",
    "- `\"tc_report\"` - a static analysis report created by TitaniumCore\n",
    "    - `\"file_type\": \"PE\"`\n",
    "    - `\"file_subtype\": \"Exe\"`\n",
    "    - `\"story\"` - a verbose and human-readable description of this file\n",
    "    - `\"dynamic_analysis\"` - dynamic analysis results from various cloud sandboxes\n",
    "\n",
    "\n",
    "### 6. Getting the hashes of functionally similar files\n",
    "Additionally, we can send use the RHA1FunctionalSimilarity class to get a list of files that are functionally similar to the malicious file that we are analyzing.  \n",
    "Each file is represented by its SHA-1 hash."
   ],
   "metadata": {
    "collapsed": false
   }
  },
  {
   "cell_type": "code",
   "execution_count": null,
   "outputs": [],
   "source": [
    "similarity = RHA1FunctionalSimilarity(\n",
    "    host=\"https://data.reversinglabs.com\",\n",
    "    username=USERNAME,\n",
    "    password=PASSWORD,\n",
    "    user_agent=USER_AGENT\n",
    ")\n",
    "\n",
    "similarity_results = similarity.get_similar_hashes(\n",
    "    hash_input=FILE_HASH\n",
    ")\n",
    "\n",
    "similarity_text = similarity_results.text\n",
    "print(similarity_text)"
   ],
   "metadata": {
    "collapsed": false
   }
  },
  {
   "cell_type": "markdown",
   "source": [
    "This gives us a report with only the first page of results. If we want a **complete** list of similar files, we need to use the `get_similar_hashes_aggregated` method.  \n",
    "The full list is returned as a Python `list` type, rather than a response object.\n",
    "Example:"
   ],
   "metadata": {
    "collapsed": false
   }
  },
  {
   "cell_type": "code",
   "execution_count": null,
   "outputs": [],
   "source": [
    "all_pages = similarity.get_similar_hashes_aggregated(\n",
    "    hash_input=FILE_HASH\n",
    ")\n",
    "\n",
    "print(all_pages)"
   ],
   "metadata": {
    "collapsed": false
   }
  },
  {
   "cell_type": "markdown",
   "source": [
    "\n",
    "### 7. Advanced\n",
    "**Additional parameters** in that method give us the following options:\n",
    "- `extended_results` - show the extended results\n",
    "- `classification` - return only files of this classification\n",
    "- `max_results` - the maximum number of files we want\n",
    "- `results_per_page` - the number of files per each page (request) we want, until we reach the `max_results`\n",
    "\n",
    "Example:"
   ],
   "metadata": {
    "collapsed": false
   }
  },
  {
   "cell_type": "code",
   "execution_count": null,
   "outputs": [],
   "source": [
    "all_pages = similarity.get_similar_hashes_aggregated(\n",
    "    hash_input=FILE_HASH,\n",
    "    extended_results=True,\n",
    "    classification=\"MALICIOUS\",\n",
    "    max_results=300,\n",
    "    results_per_page=50\n",
    ")\n",
    "\n",
    "print(all_pages)"
   ],
   "metadata": {
    "collapsed": false
   }
  },
  {
   "cell_type": "markdown",
   "source": [
    "This example will return a maximum of 300 files in a list, with 50 files per page (request). Also, it will return only malicious files with extended information."
   ],
   "metadata": {
    "collapsed": false
   }
  }
 ],
 "metadata": {
  "kernelspec": {
   "display_name": "Python 3",
   "language": "python",
   "name": "python3"
  },
  "language_info": {
   "codemirror_mode": {
    "name": "ipython",
    "version": 2
   },
   "file_extension": ".py",
   "mimetype": "text/x-python",
   "name": "python",
   "nbconvert_exporter": "python",
   "pygments_lexer": "ipython2",
   "version": "2.7.6"
  }
 },
 "nbformat": 4,
 "nbformat_minor": 0
}
