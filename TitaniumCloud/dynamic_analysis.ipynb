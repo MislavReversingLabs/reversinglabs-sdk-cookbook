{
 "cells": [
  {
   "cell_type": "markdown",
   "source": [
    "# TitaniumCloud Dynamic Analysis API-s\n",
    "This notebook demonstrates how to use the Dynamic Analysis API-s, namely the Dynamic Analysis and Dynamic Analysis Report. The first one mentioned here handles submitting a cloud sample to dynamic analysis and the second one handles returning a comprehensive report.\n",
    "**NOTE:** If pasted into a Python file in the displayed order, all code cells can also work as a Python script."
   ],
   "metadata": {
    "collapsed": false
   },
   "id": "b8d1af5cc840b3f7"
  },
  {
   "cell_type": "markdown",
   "source": [
    "### Covered API classes\n",
    "This notebook covers examples for the following API class:\n",
    "- **DynamicAnalysis** (*TCA-0207 and TCA-0106*)\n",
    "    - The ReversingLabs SDK couples both API-s under one Python class.\n",
    "\n",
    "### Credentials\n",
    "Credentials are loaded from a local file instead of being written here in plain text.\n",
    "To learn how to creat the credentials file, see the **Storing and using the credentials** section in the [README file](./README.md)"
   ],
   "metadata": {
    "collapsed": false
   },
   "id": "d0017f35a70ab1d3"
  },
  {
   "cell_type": "markdown",
   "source": [
    "### 1. Importing the required classes\n",
    "First, we will import the required API class from the ticloud module."
   ],
   "metadata": {
    "collapsed": false
   },
   "id": "5311f2a9b38b7da4"
  },
  {
   "cell_type": "code",
   "execution_count": null,
   "outputs": [],
   "source": [
    "from ReversingLabs.SDK.ticloud import DynamicAnalysis"
   ],
   "metadata": {
    "collapsed": false
   },
   "id": "201611a7bc394da6"
  },
  {
   "cell_type": "markdown",
   "source": [
    "### 2. Loading the credentials\n",
    "Next, we will load our TitaniumCloud credentials from the local `ticloud_credentials.json` file.\n",
    "**NOTE: Instead of doing this step, you can paste your credentials while creating the Python object in the following step.**"
   ],
   "metadata": {
    "collapsed": false
   },
   "id": "379e0a6a4f530e52"
  },
  {
   "cell_type": "code",
   "execution_count": null,
   "outputs": [],
   "source": [
    "import json\n",
    "\n",
    "\n",
    "CREDENTIALS = json.load(open(\"ticloud_credentials.json\"))\n",
    "USERNAME = CREDENTIALS.get(\"username\")\n",
    "PASSWORD = CREDENTIALS.get(\"password\")"
   ],
   "metadata": {
    "collapsed": false
   },
   "id": "819f7b78f95ff043"
  },
  {
   "cell_type": "markdown",
   "source": [
    "### 3. Creating the DynamicAnalysis object\n",
    "After we create an object from the DynamicAnalysis class, we will be able to use its methods."
   ],
   "metadata": {
    "collapsed": false
   },
   "id": "be3174e271ed926f"
  },
  {
   "cell_type": "code",
   "execution_count": null,
   "outputs": [],
   "source": [
    "dynamic_analysis = DynamicAnalysis(\n",
    "    host=\"https://data.reversinglabs.com\",\n",
    "    username=USERNAME,\n",
    "    password=PASSWORD,\n",
    "    user_agent=\"ReversingLabs SDK cookbook\"\n",
    ")"
   ],
   "metadata": {
    "collapsed": false
   },
   "id": "79dda784f340b2fb"
  },
  {
   "cell_type": "markdown",
   "source": [
    "### 4. Submitting a sample for Dynamic Analysis\n",
    "To submit a sample for dynamic analysis, we need the sample's SHA1 hash instead of the sample's content. That is because the sample needs to already be present in TitaniumCloud to be available for detonation.  \n",
    "To see how to upload a sample to TitaniumCloud, see section 6. or the [Sample management notebook](./sample_management.ipynb).  \n",
    "Please change the `example_sha1_hash` into an actual SHA1 hash of a sample found in the cloud."
   ],
   "metadata": {
    "collapsed": false
   },
   "id": "ed7c398820cf1b5c"
  },
  {
   "cell_type": "code",
   "execution_count": null,
   "outputs": [],
   "source": [
    "detonate1 = dynamic_analysis.detonate_sample(\n",
    "    sample_sha1=\"example_sha1_hash\",\n",
    "    platform=\"windows10\"\n",
    ")\n",
    "\n",
    "print(detonate1.text)"
   ],
   "metadata": {
    "collapsed": false
   },
   "id": "b44db92b77fbf27a"
  },
  {
   "cell_type": "markdown",
   "source": [
    "If the detonation request was successful, we will see a response message stating that the analysis has been requested.  \n",
    "**NOTE:** After requesting Dynamic Analysis on a sample, it may take some time for it to be finished and the results ready. You can periodically try to fetch the results to see the status."
   ],
   "metadata": {
    "collapsed": false
   },
   "id": "baef03306c25b050"
  },
  {
   "cell_type": "markdown",
   "source": [
    "### 5. Getting the Dynamic Analysis results\n",
    "After the Dynamic Analysis is finished, we can move on to getting the results for our sample."
   ],
   "metadata": {
    "collapsed": false
   },
   "id": "615808f661ad633e"
  },
  {
   "cell_type": "code",
   "execution_count": null,
   "outputs": [],
   "source": [
    "results = dynamic_analysis.get_dynamic_analysis_results(sample_hash=\"example_sha1_hash\")\n",
    "\n",
    "print(results.text)"
   ],
   "metadata": {
    "collapsed": false
   },
   "id": "f8ceec702d1ba22b"
  },
  {
   "cell_type": "markdown",
   "source": [
    "This is the simplest request we can make to acquire the results for our analyzed sample. There are other options available:\n",
    "\n",
    "#### A specific analysis from the past"
   ],
   "metadata": {
    "collapsed": false
   },
   "id": "f3bd4a50a5bb7495"
  },
  {
   "cell_type": "code",
   "execution_count": null,
   "outputs": [],
   "source": [
    "results = dynamic_analysis.get_dynamic_analysis_results(\n",
    "    sample_hash=\"example_sha1_hash\",\n",
    "    analysis_id=\"specific_analysis_id\"\n",
    ")\n",
    "\n",
    "print(results.text)"
   ],
   "metadata": {
    "collapsed": false
   },
   "id": "de5df2964f0ca6c3"
  },
  {
   "cell_type": "markdown",
   "source": [
    "When returning the analysis results in general, each returned analysis has its own ID that can be used as this argument.\n",
    "\n",
    "#### The latest analysis"
   ],
   "metadata": {
    "collapsed": false
   },
   "id": "ce72ae76ab869a61"
  },
  {
   "cell_type": "code",
   "execution_count": null,
   "outputs": [],
   "source": [
    "results = dynamic_analysis.get_dynamic_analysis_results(\n",
    "    sample_hash=\"example_sha1_hash\",\n",
    "    latest=True\n",
    ")\n",
    "\n",
    "print(results.text)"
   ],
   "metadata": {
    "collapsed": false
   },
   "id": "853dc9659d82cf7d"
  },
  {
   "cell_type": "markdown",
   "source": [
    "This request will return the results of only the latest analysis that we performed."
   ],
   "metadata": {
    "collapsed": false
   },
   "id": "6beeddb9d3e8b944"
  },
  {
   "cell_type": "markdown",
   "source": [
    "### 6. Uploading the sample to the cloud\n",
    "For a sample to be available for dynamic analysis ti **needs to be present on the TitaniumCloud**. If a sample is not present in TitaniumCloud, we first need to upload it using the **FileUpload** class."
   ],
   "metadata": {
    "collapsed": false
   },
   "id": "8a7a18288b2da807"
  },
  {
   "cell_type": "code",
   "execution_count": null,
   "outputs": [],
   "source": [
    "from ReversingLabs.SDK.ticloud import FileUpload\n",
    "\n",
    "\n",
    "upload = FileUpload(\n",
    "    host=\"https://data.reversinglabs.com\",\n",
    "    username=USERNAME,\n",
    "    password=PASSWORD,\n",
    "    user_agent=\"ReversingLabs SDK cookbook\"\n",
    ")\n",
    "\n",
    "_ = upload.upload_sample_from_path(file_path=\"sample.exe\")"
   ],
   "metadata": {
    "collapsed": false
   },
   "id": "2f3e0eeab08a49de"
  },
  {
   "cell_type": "markdown",
   "source": [
    "After the sample is uploaded to the cloud, we can request Dynamic Analysis on it. Again, to submit the sample for Dynamic Analysis, we need to use its SHA1 hash."
   ],
   "metadata": {
    "collapsed": false
   },
   "id": "91e2375faa1dfd70"
  },
  {
   "cell_type": "code",
   "execution_count": null,
   "outputs": [],
   "source": [
    "detonate2 = dynamic_analysis.detonate_sample(\n",
    "    sample_sha1=\"example_sha1_hash\",\n",
    "    platform=\"windows7\"\n",
    ")"
   ],
   "metadata": {
    "collapsed": false
   },
   "id": "fa928c5d6108a5cc"
  }
 ],
 "metadata": {
  "kernelspec": {
   "display_name": "Python 3",
   "language": "python",
   "name": "python3"
  },
  "language_info": {
   "codemirror_mode": {
    "name": "ipython",
    "version": 2
   },
   "file_extension": ".py",
   "mimetype": "text/x-python",
   "name": "python",
   "nbconvert_exporter": "python",
   "pygments_lexer": "ipython2",
   "version": "2.7.6"
  }
 },
 "nbformat": 4,
 "nbformat_minor": 5
}
