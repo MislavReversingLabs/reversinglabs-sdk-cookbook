{
 "cells": [
  {
   "cell_type": "markdown",
   "metadata": {
    "collapsed": false
   },
   "source": [
    "# TitaniumCloud sample management API-s\n",
    "This notebook contains code examples for the API-s that enable the user to manage their file samples.\n",
    "**NOTE:** If pasted into a Python file in the displayed order, all code cells can also work as a Python script."
   ]
  },
  {
   "cell_type": "markdown",
   "metadata": {
    "collapsed": false
   },
   "source": [
    "### Covered API classes\n",
    "This notebook covers examples for the following API classes:\n",
    "- **FileUpload** (*TCA-0202-0203 - File Upload*)\n",
    "- **FileDownload** (*TCA-0201 - File Download*)\n",
    "- **ReanalyzeFile** (*TCA-0205 - Re-Analyze File*)\n",
    "- **DeleteFile** (*TCA-0204 - Delete File*)\n",
    "\n",
    "### Credentials\n",
    "Credentials are loaded from a local file instead of being written here in plain text.\n",
    "To learn how to creat the credentials file, see the **Storing and using the credentials** section in the [README file](./README.md)"
   ]
  },
  {
   "cell_type": "markdown",
   "metadata": {
    "collapsed": false
   },
   "source": [
    "### 1. Importing the required classes\n",
    "First, we will import the required API classes from the ticloud module."
   ]
  },
  {
   "cell_type": "code",
   "execution_count": 2,
   "metadata": {
    "ExecuteTime": {
     "end_time": "2024-06-24T13:00:18.771975493Z",
     "start_time": "2024-06-24T13:00:18.731201662Z"
    }
   },
   "outputs": [],
   "source": [
    "from ReversingLabs.SDK.ticloud import FileUpload, FileDownload, ReanalyzeFile, DeleteFile"
   ]
  },
  {
   "cell_type": "markdown",
   "metadata": {
    "collapsed": false
   },
   "source": [
    "### 2. Loading the credentials\n",
    "Next, we will load our TitaniumCloud credentials from the local `ticloud_credentials.json` file.\n",
    "**NOTE: Instead of doing this step, you can paste your credentials while creating the Python object in the following step.**\n"
   ]
  },
  {
   "cell_type": "code",
   "execution_count": 3,
   "metadata": {
    "ExecuteTime": {
     "end_time": "2024-06-24T13:00:25.846033807Z",
     "start_time": "2024-06-24T13:00:25.842115172Z"
    }
   },
   "outputs": [],
   "source": [
    "import json\n",
    "\n",
    "\n",
    "CREDENTIALS = json.load(open(\"ticloud_credentials.json\"))\n",
    "USERNAME = CREDENTIALS.get(\"username\")\n",
    "PASSWORD = CREDENTIALS.get(\"password\")\n",
    "USER_AGENT = json.load(open('../user_agent.json'))[\"user_agent\"]"
   ]
  },
  {
   "cell_type": "markdown",
   "metadata": {
    "collapsed": false
   },
   "source": [
    "### 3. File upload\n",
    "The File upload API enables the user exactly what its name implies - to upload a new file sample to the TitaniumCloud.  \n",
    "\n",
    "To upload a file, place it in the same directory as this notebook/Python script.  \n",
    "Next, **replace the placeholder file name** in the `FILE_NAME` variable with your actual file name **including the file type extension**."
   ]
  },
  {
   "cell_type": "code",
   "execution_count": 4,
   "metadata": {
    "ExecuteTime": {
     "end_time": "2024-06-24T13:01:24.894826465Z",
     "start_time": "2024-06-24T13:01:24.346445039Z"
    }
   },
   "outputs": [
    {
     "name": "stdout",
     "output_type": "stream",
     "text": [
      "200\n"
     ]
    }
   ],
   "source": [
    "FILE_NAME = \"file_name_placeholder\"\n",
    "\n",
    "file_upload = FileUpload(\n",
    "    host=\"https://data.reversinglabs.com\",\n",
    "    username=USERNAME,\n",
    "    password=PASSWORD,\n",
    "    user_agent=USER_AGENT\n",
    ")\n",
    "\n",
    "upload_response = file_upload.upload_sample_from_path(file_path=FILE_NAME)\n",
    "\n",
    "status_code = upload_response.status_code\n",
    "print(status_code)"
   ]
  },
  {
   "cell_type": "markdown",
   "metadata": {
    "collapsed": false
   },
   "source": [
    "Since it only handles file uploads, this API does not return any specific response body text. To verify that our file was successfully submitted for upload we checked the request's status code. If the status code is `200` it means that our action was successful.\n",
    "\n",
    "\n",
    "### 4. File download\n",
    "File download enables us two actions:\n",
    "- Checking the download status of a file\n",
    "- Downloading the file\n",
    "\n",
    "Here we will demonstrate how to download a file from the TitaniumCloud to your computer. All the steps from the code will be explained below."
   ]
  },
  {
   "cell_type": "code",
   "execution_count": null,
   "metadata": {},
   "outputs": [],
   "source": [
    "FILE_HASH = \"sha1_hash_placeholder\"\n",
    "\n",
    "file_download = FileDownload(\n",
    "    host=\"https://data.reversinglabs.com\",\n",
    "    username=USERNAME,\n",
    "    password=PASSWORD,\n",
    "    user_agent=USER_AGENT\n",
    ")\n",
    "\n",
    "download_response = file_download.download_sample(hash_input=FILE_HASH)\n",
    "\n",
    "with open(\"downloaded_file\", \"wb\") as file_handle:\n",
    "    file_handle.write(download_response.content)"
   ]
  },
  {
   "cell_type": "markdown",
   "metadata": {
    "collapsed": false
   },
   "source": [
    "For downloading a file, we need to know its hash string. To use this code snippet, you have to replace the file hash placeholder in the `FILE_HASH` variable with an actual hash.  \n",
    "What the remaining code from the snippet does is the following:\n",
    "- It downloads the specified file's binary content from the TitaniumCloud into the `download_response` variable.\n",
    "- It opens up a new empty file called `downloaded_file` in this current directory.\n",
    "- It writes the downloaded binary content into the empty `downloaded_file`.\n",
    "\n",
    "\n",
    "### 5. Reanalyze file\n",
    "Files in the TitaniumCloud are being periodically analyzed all the time. However, in case we want to manually run another analysis on our file, we can use the `ReanalyzeFile` class."
   ]
  },
  {
   "cell_type": "code",
   "execution_count": 7,
   "metadata": {
    "ExecuteTime": {
     "end_time": "2024-06-24T13:15:51.128618407Z",
     "start_time": "2024-06-24T13:15:51.049367153Z"
    }
   },
   "outputs": [
    {
     "name": "stdout",
     "output_type": "stream",
     "text": [
      "Sample sent for rescanning\n"
     ]
    }
   ],
   "source": [
    "reanalyze = ReanalyzeFile(\n",
    "    host=\"https://data.reversinglabs.com\",\n",
    "    username=USERNAME,\n",
    "    password=PASSWORD,\n",
    "    user_agent=USER_AGENT\n",
    ")\n",
    "\n",
    "reanalyze_response = reanalyze.reanalyze_samples(sample_hashes=FILE_HASH)\n",
    "\n",
    "response_text = reanalyze_response.text\n",
    "print(response_text)"
   ]
  },
  {
   "cell_type": "markdown",
   "metadata": {
    "collapsed": false
   },
   "source": [
    "For this we also used the same previously defined hash which represents our file in the TitaniumCloud. If the reanalyze request was successful the printed out response text will state the following:  \n",
    "`Sample sent for rescanning`\n",
    "\n",
    "\n",
    "### 6. Delete file\n",
    "In case we no longer want a file to be present in the cloud and available for analysis or download, we can delete it.\n",
    "To delete a file from the TitaniumCloud, we will use the `DeleteFile` class."
   ]
  },
  {
   "cell_type": "code",
   "execution_count": null,
   "metadata": {},
   "outputs": [],
   "source": [
    "delete_file = DeleteFile(\n",
    "    host=\"https://data.reversinglabs.com\",\n",
    "    username=USERNAME,\n",
    "    password=PASSWORD,\n",
    "    user_agent=USER_AGENT\n",
    ")\n",
    "\n",
    "delete_response = delete_file.delete_samples(sample_hashes=FILE_HASH)\n",
    "\n",
    "response_text = delete_response.text\n",
    "print(response_text)"
   ]
  },
  {
   "cell_type": "markdown",
   "metadata": {
    "collapsed": false
   },
   "source": [
    "Again, we used the same file hash. If our file deletion request was successful, the response text will have a non-empty list called `deleted_hashes`. This list carries the hashes of files that have successfully been deleted with this request."
   ]
  },
  {
   "cell_type": "code",
   "outputs": [],
   "source": [
    "file_override_response = file_reputation_override.list_active_overrides(\"sha256\")\n",
    "print(file_override_response.text)\n",
    "is_in = \"in\" if file_override_response.text.find(sample_sha256) != -1 else \"not in\"\n",
    "print(\"\")\n",
    "print(f\"Sample is {is_in} the returned response page\")"
   ],
   "metadata": {
    "collapsed": false
   }
  },
  {
   "cell_type": "markdown",
   "source": [
    "Cleaning up the override classification is easy. We do it using the same method as before."
   ],
   "metadata": {
    "collapsed": false
   }
  },
  {
   "cell_type": "code",
   "outputs": [],
   "source": [
    "cleanup_response = file_reputation_override.override_classification(\n",
    "    remove_override=[\n",
    "        {\n",
    "            \"md5\": sample_md5,\n",
    "            \"sha1\": sample_sha1,\n",
    "            \"sha256\": sample_sha256\n",
    "        }\n",
    "    ]\n",
    ")\n",
    "print(cleanup_response.status_code)\n",
    "print(cleanup_response.text)"
   ],
   "metadata": {
    "collapsed": false
   }
  },
  {
   "cell_type": "markdown",
   "source": [
    "### 7. Delete file\n",
    "In case we no longer want a file to be present in the cloud and available for analysis or download, we can delete it.\n",
    "To delete a file from the TitaniumCloud, we will use the `DeleteFile` class."
   ],
   "metadata": {
    "collapsed": false
   }
  },
  {
   "cell_type": "code",
   "outputs": [],
   "source": [
    "delete_file = DeleteFile(\n",
    "    host=\"https://data.reversinglabs.com\",\n",
    "    username=USERNAME,\n",
    "    password=PASSWORD,\n",
    "    user_agent=USER_AGENT\n",
    ")\n",
    "\n",
    "delete_response = delete_file.delete_samples(sample_hashes=FILE_HASH)\n",
    "\n",
    "response_text = delete_response.text\n",
    "print(response_text)"
   ],
   "metadata": {
    "collapsed": false
   }
  },
  {
   "cell_type": "raw",
   "source": [
    "Again, we used the same file hash. If our file deletion request was successful, the response text will have a non-empty list called `deleted_hashes`. This list carries the hashes of files that have successfully been deleted with this request."
   ],
   "metadata": {
    "collapsed": false
   }
  },
  {
   "cell_type": "code",
   "execution_count": null,
   "metadata": {},
   "outputs": [],
   "source": [
    "file_override_response = file_reputation_override.list_active_overrides(\"sha256\")\n",
    "print(file_override_response.text)\n",
    "is_in = \"in\" if file_override_response.text.find(sample_sha256) != -1 else \"not in\"\n",
    "print(\"\")\n",
    "print(f\"Sample is {is_in} the returned response page\")"
   ]
  },
  {
   "cell_type": "markdown",
   "metadata": {
    "collapsed": false
   },
   "source": [
    "Cleaning up the override classification is easy. We do it using the same method as before."
   ]
  },
  {
   "cell_type": "code",
   "execution_count": null,
   "metadata": {},
   "outputs": [],
   "source": [
    "cleanup_response = file_reputation_override.override_classification(\n",
    "    remove_override=[\n",
    "        {\n",
    "            \"md5\": sample_md5,\n",
    "            \"sha1\": sample_sha1,\n",
    "            \"sha256\": sample_sha256\n",
    "        }\n",
    "    ]\n",
    ")\n",
    "print(cleanup_response.status_code)\n",
    "print(cleanup_response.text)"
   ]
  },
  {
   "cell_type": "markdown",
   "metadata": {
    "collapsed": false
   },
   "source": [
    "### 7. Delete file\n",
    "In case we no longer want a file to be present in the cloud and available for analysis or download, we can delete it.\n",
    "To delete a file from the TitaniumCloud, we will use the `DeleteFile` class."
   ]
  },
  {
   "cell_type": "code",
   "execution_count": null,
   "metadata": {},
   "outputs": [],
   "source": [
    "delete_file = DeleteFile(\n",
    "    host=\"https://data.reversinglabs.com\",\n",
    "    username=USERNAME,\n",
    "    password=PASSWORD,\n",
    "    user_agent=USER_AGENT\n",
    ")\n",
    "\n",
    "delete_response = delete_file.delete_samples(sample_hashes=FILE_HASH)\n",
    "\n",
    "response_text = delete_response.text\n",
    "print(response_text)"
   ]
  },
  {
   "cell_type": "raw",
   "metadata": {
    "collapsed": false
   },
   "source": [
    "Again, we used the same file hash. If our file deletion request was successful, the response text will have a non-empty list called `deleted_hashes`. This list carries the hashes of files that have successfully been deleted with this request."
   ]
  }
 ],
 "metadata": {
  "language_info": {
   "name": "python"
  },
  "kernelspec": {
   "name": "python3",
   "language": "python",
   "display_name": "Python 3 (ipykernel)"
  }
 },
 "nbformat": 4,
 "nbformat_minor": 4
}
