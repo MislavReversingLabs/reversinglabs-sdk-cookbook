{
 "cells": [
  {
   "cell_type": "markdown",
   "source": [
    "# TitaniumCloud Customer Usage API\n",
    "This notebook demonstrates how to use the TCA-9999 Customer Usage API which shows quota usage and limits for all TitaniumCloud API-s throughout your active cloud accounts.\n",
    "**NOTE:** If pasted into a Python file in the displayed order, all code cells can also work as a Python script."
   ],
   "metadata": {
    "collapsed": false
   },
   "id": "808dff9f722432f5"
  },
  {
   "cell_type": "markdown",
   "source": [
    "### Covered API classes\n",
    "This notebook covers examples for the following API class:\n",
    "- **CustomerUsage** (*TCA-9999 - Customer Usage API*)\n",
    "\n",
    "### Credentials\n",
    "Credentials are loaded from a local file instead of being written here in plain text.\n",
    "To learn how to creat the credentials file, see the **Storing and using the credentials** section in the [README file](./README.md)"
   ],
   "metadata": {
    "collapsed": false
   },
   "id": "b47309b48d6649a3"
  },
  {
   "cell_type": "markdown",
   "source": [
    "### 1. Importing the required classes\n",
    "First, we will import the required API class from the ticloud module."
   ],
   "metadata": {
    "collapsed": false
   },
   "id": "4be03f80f09953ee"
  },
  {
   "cell_type": "code",
   "execution_count": null,
   "outputs": [],
   "source": [
    "from ReversingLabs.SDK.ticloud import CustomerUsage"
   ],
   "metadata": {
    "collapsed": false
   },
   "id": "2273a45bbaaab24a"
  },
  {
   "cell_type": "markdown",
   "source": [
    "### 2. Loading the credentials\n",
    "Next, we will load our TitaniumCloud credentials from the local `ticloud_credentials.json` file.\n",
    "**NOTE: Instead of doing this step, you can paste your credentials while creating the Python object in the following step.**"
   ],
   "metadata": {
    "collapsed": false
   },
   "id": "5edfec44428a787d"
  },
  {
   "cell_type": "code",
   "execution_count": null,
   "outputs": [],
   "source": [
    "import json\n",
    "\n",
    "\n",
    "CREDENTIALS = json.load(open(\"ticloud_credentials.json\"))\n",
    "USERNAME = CREDENTIALS.get(\"username\")\n",
    "PASSWORD = CREDENTIALS.get(\"password\")"
   ],
   "metadata": {
    "collapsed": false
   },
   "id": "ae52c32b4bf51160"
  },
  {
   "cell_type": "markdown",
   "source": [
    "### 3. Creating the CustomerUsage object\n",
    "Now we need to create the Python object for the CustomerUsage in order to use its quota displaying methods."
   ],
   "metadata": {
    "collapsed": false
   },
   "id": "196e6b9d48c82091"
  },
  {
   "cell_type": "code",
   "execution_count": null,
   "outputs": [],
   "source": [
    "customer_usage = CustomerUsage(\n",
    "    host=\"https://data.reversinglabs.com\",\n",
    "    username=USERNAME,\n",
    "    password=PASSWORD,\n",
    "    user_agent=\"ReversingLabs SDK cookbook\"\n",
    ")"
   ],
   "metadata": {
    "collapsed": false
   },
   "id": "c583262e238c1e78"
  },
  {
   "cell_type": "markdown",
   "source": [
    "### 4. Daily and monthly usage\n",
    "To see the daily and monthly usage, we will call the `daily_usage` and `monthly_usage` methods from the object that we created.  \n",
    "Each of those methods can display API usage information for a single account or for the whole company. To switch between those options, use `True` and `False` on the `whole_company` parameter.  \n",
    "Let's start with a date range on the daily usage method."
   ],
   "metadata": {
    "collapsed": false
   },
   "id": "6e6fbe4fe5f4902b"
  },
  {
   "cell_type": "code",
   "execution_count": null,
   "outputs": [],
   "source": [
    "daily_usage = customer_usage.daily_usage(\n",
    "    from_date=\"2023-10-01\",\n",
    "    to_date=\"2023-10-10\",\n",
    "    whole_company=False\n",
    ")\n",
    "\n",
    "print(daily_usage.text)"
   ],
   "metadata": {
    "collapsed": false
   },
   "id": "ac8926a3019bdc20"
  },
  {
   "cell_type": "markdown",
   "source": [
    "This returned API usage records from October 1st to October 10th 2023 for the current account that we are using to make this inquiry.  \n",
    "Now we will make a usage inquiry for our whole company inside a single month."
   ],
   "metadata": {
    "collapsed": false
   },
   "id": "7e045ace0e5ab1aa"
  },
  {
   "cell_type": "code",
   "execution_count": null,
   "outputs": [],
   "source": [
    "monthly_usage = customer_usage.monthly_usage(\n",
    "    single_month=\"2023-09\",\n",
    "    whole_company=True\n",
    ")\n",
    "\n",
    "print(monthly_usage.text)"
   ],
   "metadata": {
    "collapsed": false
   },
   "id": "b9bfbad37d9ea736"
  },
  {
   "cell_type": "markdown",
   "source": [
    "This gave us the API usage data for our whole company during the month of September in 2023.  \n",
    "**NOTE: `from` and `to` parameters are mutually exclusive with the `single` parameter when defining time periods.**"
   ],
   "metadata": {
    "collapsed": false
   },
   "id": "3309514d7efe67a9"
  },
  {
   "cell_type": "markdown",
   "source": [
    "### 5. Date range usage\n",
    "This action returns total usage for all TitaniumCloud product licenses with a fixed quota over a single date range. We will do this inquiry for our whole company."
   ],
   "metadata": {
    "collapsed": false
   },
   "id": "c69c29ea0f183aac"
  },
  {
   "cell_type": "code",
   "execution_count": null,
   "outputs": [],
   "source": [
    "date_range_usage = customer_usage.date_range_usage(whole_company=True)\n",
    "\n",
    "print(date_range_usage.text)"
   ],
   "metadata": {
    "collapsed": false
   },
   "id": "b8208d6982b81529"
  },
  {
   "cell_type": "markdown",
   "source": [
    "### 6. Active YARA rulesets\n",
    "Apart from only showing API usage, the CustomerUsage class can also show your active YARA rulesets in TitaniumCloud."
   ],
   "metadata": {
    "collapsed": false
   },
   "id": "1d420ecec85844a9"
  },
  {
   "cell_type": "code",
   "execution_count": null,
   "outputs": [],
   "source": [
    "active_rulesets = customer_usage.active_yara_rulesets()\n",
    "\n",
    "print(active_rulesets.text)"
   ],
   "metadata": {
    "collapsed": false
   },
   "id": "40d2a93eecead997"
  }
 ],
 "metadata": {
  "kernelspec": {
   "display_name": "Python 3",
   "language": "python",
   "name": "python3"
  },
  "language_info": {
   "codemirror_mode": {
    "name": "ipython",
    "version": 2
   },
   "file_extension": ".py",
   "mimetype": "text/x-python",
   "name": "python",
   "nbconvert_exporter": "python",
   "pygments_lexer": "ipython2",
   "version": "2.7.6"
  }
 },
 "nbformat": 4,
 "nbformat_minor": 5
}
