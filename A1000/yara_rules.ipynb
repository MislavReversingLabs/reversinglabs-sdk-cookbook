{
 "cells": [
  {
   "cell_type": "markdown",
   "source": [
    "# A1000 YARA rules API\n",
    "This notebook contains code examples for the A1000 YARA API. This API enables management of our custom YARA rulesets on our A1000 instance. It has several endpoints and actions available for use.\n",
    "**NOTE:** If pasted into a Python file in the displayed order, all code cells can also work as a Python script."
   ],
   "metadata": {
    "collapsed": false
   },
   "id": "e01362d6ccfc0606"
  },
  {
   "cell_type": "markdown",
   "source": [
    "### Credentials\n",
    "Credentials are loaded from a local file instead of being written here in plain text.\n",
    "To learn how to creat the credentials file, see the **Storing and using the credentials** section in the [README file](./README.md) "
   ],
   "metadata": {
    "collapsed": false
   },
   "id": "4049276689de67ca"
  },
  {
   "cell_type": "markdown",
   "source": [
    "### 1. Import the A1000 class"
   ],
   "metadata": {
    "collapsed": false
   },
   "id": "35d4e974818337cb"
  },
  {
   "cell_type": "code",
   "execution_count": null,
   "outputs": [],
   "source": [
    "from ReversingLabs.SDK.a1000 import A1000"
   ],
   "metadata": {
    "collapsed": false
   },
   "id": "12e2a898306144b3"
  },
  {
   "cell_type": "markdown",
   "source": [
    "### 2. Loading the credentials\n",
    "Next, we will load our A1000 credentials and host URL from the local `a1000_credentials.json` file.\n",
    "**NOTE: Instead of doing this step, you can paste your credentials while creating the Python object in the following step.**"
   ],
   "metadata": {
    "collapsed": false
   },
   "id": "209f0ce3f3fcaa00"
  },
  {
   "cell_type": "code",
   "execution_count": null,
   "outputs": [],
   "source": [
    "import json\n",
    "\n",
    "\n",
    "CREDENTIALS = json.load(open(\"a1000_credentials.json\"))\n",
    "HOST = CREDENTIALS.get(\"host\")\n",
    "TOKEN = CREDENTIALS.get(\"token\")\n",
    "USER_AGENT = \"ReversingLabs SDK Cookbook v1.0.2\""
   ],
   "metadata": {
    "collapsed": false
   },
   "id": "e7421f8e1b4e30bb"
  },
  {
   "cell_type": "markdown",
   "source": [
    "#### 3. Creating an A1000 object\n",
    "First let us create an object out of the A1000 class. Unlike the `ticloud` module, the `a1000` module has only one class for all its methods (API-s).\n",
    "Having that in mind, we will create our A1000 object:"
   ],
   "metadata": {
    "collapsed": false
   },
   "id": "c80cd0350fecf3f4"
  },
  {
   "cell_type": "code",
   "execution_count": null,
   "outputs": [],
   "source": [
    "a1000 = A1000(\n",
    "    host=HOST,\n",
    "    token=TOKEN,\n",
    "    verify=False,\n",
    "    user_agent=USER_AGENT\n",
    ")"
   ],
   "metadata": {
    "collapsed": false
   },
   "id": "e51c0d264246756"
  },
  {
   "cell_type": "markdown",
   "source": [
    "**NOTE:** Set the `verify` parameter to `True` or `False` depending on whether you want your server certificates to be validated or ignored."
   ],
   "metadata": {
    "collapsed": false
   },
   "id": "c4489ac5cefa383c"
  },
  {
   "cell_type": "markdown",
   "source": [
    "### 4. Creating the ruleset\n",
    "YARA enables rule-based identification and classification of files. To create a new YARA ruleset on your A1000 instance, do the following steps:"
   ],
   "metadata": {
    "collapsed": false
   },
   "id": "73863ecbbcc91987"
  },
  {
   "cell_type": "code",
   "execution_count": null,
   "outputs": [],
   "source": [
    "ruleset_text = \"\"\"\n",
    "    rule PdfsWithUrls\n",
    "    {\n",
    "    strings:\n",
    "        $Hex_PDF_magic = { 25 50 44 46 }\n",
    "        $Regex_URL = /https?:\\/\\/([\\w\\.-]+)([\\/\\w \\.-]*)/\n",
    "    \n",
    "    condition:\n",
    "        filesize > 10KB and filesize < 200KB and\n",
    "        $Hex_PDF_magic at 0 and\n",
    "        $Regex_URL\n",
    "    }\n",
    "\"\"\"\n",
    "\n",
    "response = a1000.create_or_update_yara_ruleset(\n",
    "    name=\"PdfsWithUrls\",\n",
    "    content=ruleset_text\n",
    ")\n",
    "\n",
    "print(response.text)"
   ],
   "metadata": {
    "collapsed": false
   },
   "id": "710e28ac34aeda97"
  },
  {
   "cell_type": "markdown",
   "source": [
    "Parameters explained:\n",
    "- `name`: A name for your YARA ruleset.\n",
    "- `content`: The ruleset itself. Here you must paste the rule text in the form of a string.  \n",
    "\n",
    "The ruleset that we used will detect all PDF files on A1000 that contain URL-s starting with \"https\". This ruleset is not particularly useful for detecting malware, but we are using it here for the sake of demonstration, since it is likely for it to work well with a lot of files found on your instance of A1000."
   ],
   "metadata": {
    "collapsed": false
   },
   "id": "f8579eda1fcf1f56"
  },
  {
   "cell_type": "markdown",
   "source": [
    "### 5. Enabling the ruleset\n",
    "After we have successfully created our ruleset, we need to enable it. To do so, follow up with these steps:"
   ],
   "metadata": {
    "collapsed": false
   },
   "id": "b6c1dd054ba27063"
  },
  {
   "cell_type": "code",
   "execution_count": null,
   "outputs": [],
   "source": [
    "response = a1000.enable_or_disable_yara_ruleset(\n",
    "    enabled=True,\n",
    "    name=\"PdfsWithUrls\"\n",
    ")\n",
    "\n",
    "print(response.text)"
   ],
   "metadata": {
    "collapsed": false
   },
   "id": "9a3c3902bab80380"
  },
  {
   "cell_type": "markdown",
   "source": [
    "Parameters explained:\n",
    "- `name`: The name of the ruleset we want to manage.\n",
    "- `enabled`: A boolean statement whether that ruleset should be enabled or not.\n",
    "\n",
    "After receiving a response message that confirms us that our ruleset is enabled, we are good to go. However, let us first check what our new ruleset looks like on our A1000."
   ],
   "metadata": {
    "collapsed": false
   },
   "id": "b6ab119c996905bf"
  },
  {
   "cell_type": "markdown",
   "source": [
    "### 6. Listing the available rulesets\n",
    "To see the status of the existing rulesets on our A1000, we need to list them out using another A1000 class method."
   ],
   "metadata": {
    "collapsed": false
   },
   "id": "75120bd174d668af"
  },
  {
   "cell_type": "code",
   "execution_count": null,
   "outputs": [],
   "source": [
    "response = a1000.get_yara_rulesets_on_the_appliance_v2(\n",
    "    status=\"active\"\n",
    ")\n",
    "\n",
    "print(response.text)"
   ],
   "metadata": {
    "collapsed": false
   },
   "id": "a7a04a2dbe4db850"
  },
  {
   "cell_type": "markdown",
   "source": [
    "We used \"active\" as a filter here to return ony existing rulesets that are considered active and running. Since we specifically activated our new ruleset, you should be able to see it in this response. Keep in mind that by not \"publishing\" the ruleset also to TitaniumCloud, the status of our ruleset should be displayed as `\"pending\"`. Nevertheless, our ruleset is up and running."
   ],
   "metadata": {
    "collapsed": false
   },
   "id": "37e77eb2e3167071"
  },
  {
   "cell_type": "markdown",
   "source": [
    "### 7. Getting the ruleset matches\n",
    "Finally, we can fetch all the matches that our new ruleset has made out of all the samples available on your A1000 instance. Keep in mind that the ruleset that we used here is quite inclusive but there is always a chance that you don't have any PDF files containing URL-s on your A1000."
   ],
   "metadata": {
    "collapsed": false
   },
   "id": "5ae81eb082ee6269"
  },
  {
   "cell_type": "code",
   "execution_count": null,
   "outputs": [],
   "source": [
    "response = a1000.get_yara_ruleset_matches_v2(\n",
    "    ruleset_name=\"PdfsWithUrls\"\n",
    ")\n",
    "\n",
    "print(response.text)"
   ],
   "metadata": {
    "collapsed": false
   },
   "id": "bce28112a7e43846"
  },
  {
   "cell_type": "markdown",
   "source": [
    "If you have any PDF files containing URL-s on your A1000 instance, you should see them listed in the response here. If not, this request will simply succeed without returning any matches."
   ],
   "metadata": {
    "collapsed": false
   },
   "id": "896b2452576619fe"
  }
 ],
 "metadata": {
  "kernelspec": {
   "display_name": "Python 3",
   "language": "python",
   "name": "python3"
  },
  "language_info": {
   "codemirror_mode": {
    "name": "ipython",
    "version": 2
   },
   "file_extension": ".py",
   "mimetype": "text/x-python",
   "name": "python",
   "nbconvert_exporter": "python",
   "pygments_lexer": "ipython2",
   "version": "2.7.6"
  }
 },
 "nbformat": 4,
 "nbformat_minor": 5
}
