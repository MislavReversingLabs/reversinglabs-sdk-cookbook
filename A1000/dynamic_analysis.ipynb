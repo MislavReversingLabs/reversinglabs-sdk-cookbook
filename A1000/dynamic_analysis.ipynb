{
 "cells": [
  {
   "cell_type": "markdown",
   "source": [
    "# A1000 dynamic analysis API\n",
    "This notebook explains how to fetch the dynamic analysis results from your instance of A1000. This API only fetches the analysis results. To submit a file for dynamic analysis on A1000, do so while uploading the file or while reanalyzing it.  \n",
    "**NOTE:** If pasted into a Python file in the displayed order, all code cells can also work as a Python script."
   ],
   "metadata": {
    "collapsed": false
   },
   "id": "9d7f1f15771d055c"
  },
  {
   "cell_type": "markdown",
   "source": [
    "### Credentials\n",
    "Credentials are loaded from a local file instead of being written here in plain text.\n",
    "To learn how to creat the credentials file, see the **Storing and using the credentials** section in the [README file](./README.md) "
   ],
   "metadata": {
    "collapsed": false
   },
   "id": "fa10448d71096650"
  },
  {
   "cell_type": "markdown",
   "source": [
    "### 1. Import the A1000 class"
   ],
   "metadata": {
    "collapsed": false
   },
   "id": "cf14d328ce34f928"
  },
  {
   "cell_type": "code",
   "execution_count": null,
   "outputs": [],
   "source": [
    "from ReversingLabs.SDK.a1000 import A1000"
   ],
   "metadata": {
    "collapsed": false
   },
   "id": "13ba76c5b7e61c6e"
  },
  {
   "cell_type": "markdown",
   "source": [
    "### 2. Loading the credentials\n",
    "Next, we will load our A1000 credentials and host URL from the local `a1000_credentials.json` file.\n",
    "**NOTE: Instead of doing this step, you can paste your credentials while creating the Python object in the following step.**"
   ],
   "metadata": {
    "collapsed": false
   },
   "id": "ef3b6b1a2b1a61b1"
  },
  {
   "cell_type": "code",
   "execution_count": null,
   "outputs": [],
   "source": [
    "import json\n",
    "\n",
    "\n",
    "CREDENTIALS = json.load(open(\"a1000_credentials.json\"))\n",
    "HOST = CREDENTIALS.get(\"host\")\n",
    "TOKEN = CREDENTIALS.get(\"token\")"
   ],
   "metadata": {
    "collapsed": false
   },
   "id": "d2992f910f3e1562"
  },
  {
   "cell_type": "markdown",
   "source": [
    "#### 3. Creating an A1000 object\n",
    "First let us create an object out of the A1000 class. Unlike the `ticloud` module, the `a1000` module has only one class for all its methods (API-s).\n",
    "Having that in mind, we will create our A1000 object:"
   ],
   "metadata": {
    "collapsed": false
   },
   "id": "ab56f879c48f8bd1"
  },
  {
   "cell_type": "code",
   "execution_count": null,
   "outputs": [],
   "source": [
    "a1000 = A1000(\n",
    "    host=HOST,\n",
    "    token=TOKEN,\n",
    "    verify=False\n",
    ")"
   ],
   "metadata": {
    "collapsed": false
   },
   "id": "5e1223dba726bae7"
  },
  {
   "cell_type": "markdown",
   "source": [
    "**NOTE:** Set the `verify` parameter to `True` or `False` depending on whether you want your server certificates to be validated or ignored."
   ],
   "metadata": {
    "collapsed": false
   },
   "id": "d18c338fedb2fd8a"
  },
  {
   "cell_type": "markdown",
   "source": [
    "### 4. Getting the dynamic analysis results\n",
    "To get the dynamic analysis results for a file from A1000, we have three steps:\n",
    "- Requesting a report and its format (PDF or HTML)\n",
    "- Checking the report creation status\n",
    "- Downloading the report"
   ],
   "metadata": {
    "collapsed": false
   },
   "id": "30bf83a9c10f8058"
  },
  {
   "cell_type": "markdown",
   "source": [
    "#### Requesting a report\n",
    "First we need to request a report creation task and define the report format that we want."
   ],
   "metadata": {
    "collapsed": false
   },
   "id": "7f40c39da72ad6de"
  },
  {
   "cell_type": "code",
   "execution_count": null,
   "outputs": [],
   "source": [
    "response = a1000.create_dynamic_analysis_report(\n",
    "    sample_hash=\"sha1_file_hash\", \n",
    "    report_format=\"pdf\"\n",
    ")\n",
    "\n",
    "print(response.text)"
   ],
   "metadata": {
    "collapsed": false
   },
   "id": "de98440b912ff8e1"
  },
  {
   "cell_type": "markdown",
   "source": [
    "In our example, we requested a PDF report.\n",
    "\n",
    "\n",
    "#### Checking the report creation status\n",
    "Next, we can check the status of our report creation task. This step is not mandatory but is useful for knowing if our report is ready or not."
   ],
   "metadata": {
    "collapsed": false
   },
   "id": "fc224ffe106193bd"
  },
  {
   "cell_type": "code",
   "execution_count": null,
   "outputs": [],
   "source": [
    "response = a1000.check_dynamic_analysis_report_status(\n",
    "    sample_hash=\"sha1_file_hash\", \n",
    "    report_format=\"pdf\"\n",
    ")\n",
    "\n",
    "print(response.text)"
   ],
   "metadata": {
    "collapsed": false
   },
   "id": "78cf3e1a71f9a7e8"
  },
  {
   "cell_type": "markdown",
   "source": [
    "By printing out the response message, we can see the status of our report creation task.  \n",
    "\n",
    "\n",
    "#### Downloading the report\n",
    "If the report is ready, we can proceed to downloading it."
   ],
   "metadata": {
    "collapsed": false
   },
   "id": "7ce55b15cbf69400"
  },
  {
   "cell_type": "code",
   "execution_count": null,
   "outputs": [],
   "source": [
    "response = a1000.download_dynamic_analysis_report(\n",
    "    sample_hash=\"sha1_file_hash\", \n",
    "    report_format=\"pdf\"\n",
    ")\n",
    "\n",
    "with open(\"report.pdf\", \"wb\") as file_handle:\n",
    "    file_handle.write(response.content)"
   ],
   "metadata": {
    "collapsed": false
   },
   "id": "1505a364a3325af8"
  },
  {
   "cell_type": "markdown",
   "source": [
    "Here we had to open a new empty PDF file and write the report's binary contents into it."
   ],
   "metadata": {
    "collapsed": false
   },
   "id": "bbdc335c300acfec"
  }
 ],
 "metadata": {
  "kernelspec": {
   "display_name": "Python 3",
   "language": "python",
   "name": "python3"
  },
  "language_info": {
   "codemirror_mode": {
    "name": "ipython",
    "version": 2
   },
   "file_extension": ".py",
   "mimetype": "text/x-python",
   "name": "python",
   "nbconvert_exporter": "python",
   "pygments_lexer": "ipython2",
   "version": "2.7.6"
  }
 },
 "nbformat": 4,
 "nbformat_minor": 5
}
