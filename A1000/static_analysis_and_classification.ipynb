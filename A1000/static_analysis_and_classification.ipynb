{
 "cells": [
  {
   "cell_type": "markdown",
   "source": [
    "# A1000 classification and static analysis API-s\n",
    "This notebook contains code examples for the A1000 API-s that fetch the static analysis report and the cloud classification report.\n",
    "**NOTE:** If pasted into a Python file in the displayed order, all code cells can also work as a Python script."
   ],
   "metadata": {
    "collapsed": false
   },
   "id": "46307aa54ab101fc"
  },
  {
   "cell_type": "markdown",
   "source": [
    "### Covered API-s\n",
    "- Static Analysis Report API\n",
    "- Classification Status API\n",
    "\n",
    "### Credentials\n",
    "Credentials are loaded from a local file instead of being written here in plain text.\n",
    "To learn how to creat the credentials file, see the **Storing and using the credentials** section in the [README file](./README.md) "
   ],
   "metadata": {
    "collapsed": false
   },
   "id": "2896f92eb7d27f4b"
  },
  {
   "cell_type": "markdown",
   "source": [
    "### 1. Import the A1000 class"
   ],
   "metadata": {
    "collapsed": false
   },
   "id": "37b2231d41380bc2"
  },
  {
   "cell_type": "code",
   "execution_count": null,
   "outputs": [],
   "source": [
    "from ReversingLabs.SDK.a1000 import A1000"
   ],
   "metadata": {
    "collapsed": false
   },
   "id": "76d79fb4b1a09b31"
  },
  {
   "cell_type": "markdown",
   "source": [
    "### 2. Loading the credentials\n",
    "Next, we will load our A1000 credentials and host URL from the local `a1000_credentials.json` file.\n",
    "**NOTE: Instead of doing this step, you can paste your credentials while creating the Python object in the following step.**"
   ],
   "metadata": {
    "collapsed": false
   },
   "id": "91ac25c71edebe8"
  },
  {
   "cell_type": "code",
   "execution_count": null,
   "outputs": [],
   "source": [
    "import json\n",
    "\n",
    "\n",
    "CREDENTIALS = json.load(open(\"a1000_credentials.json\"))\n",
    "HOST = CREDENTIALS.get(\"host\")\n",
    "TOKEN = CREDENTIALS.get(\"token\")\n",
    "USER_AGENT = \"ReversingLabs SDK Cookbook v1.0.2\""
   ],
   "metadata": {
    "collapsed": false
   },
   "id": "887d841ffa579576"
  },
  {
   "cell_type": "markdown",
   "source": [
    "#### 3. Creating an A1000 object\n",
    "First let us create an object out of the A1000 class. Unlike the `ticloud` module, the `a1000` module has only one class for all its methods (API-s).\n",
    "Having that in mind, we will create our A1000 object:"
   ],
   "metadata": {
    "collapsed": false
   },
   "id": "4ea39346f93d124b"
  },
  {
   "cell_type": "code",
   "execution_count": null,
   "outputs": [],
   "source": [
    "a1000 = A1000(\n",
    "    host=HOST,\n",
    "    token=TOKEN,\n",
    "    verify=False,\n",
    "    user_agent=USER_AGENT\n",
    ")"
   ],
   "metadata": {
    "collapsed": false
   },
   "id": "b5c0e907c6d13216"
  },
  {
   "cell_type": "markdown",
   "source": [
    "**NOTE:** Set the `verify` parameter to `True` or `False` depending on whether you want your server certificates to be validated or ignored."
   ],
   "metadata": {
    "collapsed": false
   },
   "id": "445ce7bd2151ef6c"
  },
  {
   "cell_type": "markdown",
   "source": [
    "### 4. Getting the static analysis report\n",
    "Static analysis of a file inside of A1000 is performed by ReversingLabs' TitaniumCore engine.  \n",
    "To obtain the static analysis report from your A1000, do the following: "
   ],
   "metadata": {
    "collapsed": false
   },
   "id": "8fa5b6584a69a29"
  },
  {
   "cell_type": "code",
   "execution_count": null,
   "outputs": [],
   "source": [
    "response = a1000.get_titanium_core_report_v2(sample_hash=\"sha1_file_hash\")\n",
    "\n",
    "print(response.text)"
   ],
   "metadata": {
    "collapsed": false
   },
   "id": "facde829bfa17062"
  },
  {
   "cell_type": "markdown",
   "source": [
    "As simple as that, we fetched the static analysis report from the TitaniumCore engine on our A1000 using the file's SHA1 hash as a parameter."
   ],
   "metadata": {
    "collapsed": false
   },
   "id": "ad8b31303cfaf78f"
  },
  {
   "cell_type": "markdown",
   "source": [
    "### 4. Getting the classification report\n",
    "The classification report gives us information about what the TitaniumCloud said about our requested file. In our example we will also request full AV scanner results alongside the classification report: "
   ],
   "metadata": {
    "collapsed": false
   },
   "id": "741b82998a1d4bf6"
  },
  {
   "cell_type": "code",
   "execution_count": null,
   "outputs": [],
   "source": [
    "response = a1000.get_classification_v3(\n",
    "    sample_hash=\"sha1_file_hash\",\n",
    "    av_scanners=True\n",
    ")\n",
    "\n",
    "print(response.text)"
   ],
   "metadata": {
    "collapsed": false
   },
   "id": "28b6dd5f54d32411"
  },
  {
   "cell_type": "markdown",
   "source": [
    "Now we have both the static analysis and classification (cloud) reports. Use them to gain valuable knowledge of your uploaded files!"
   ],
   "metadata": {
    "collapsed": false
   },
   "id": "2ff3e7d63a3f0d53"
  }
 ],
 "metadata": {
  "kernelspec": {
   "display_name": "Python 3",
   "language": "python",
   "name": "python3"
  },
  "language_info": {
   "codemirror_mode": {
    "name": "ipython",
    "version": 2
   },
   "file_extension": ".py",
   "mimetype": "text/x-python",
   "name": "python",
   "nbconvert_exporter": "python",
   "pygments_lexer": "ipython2",
   "version": "2.7.6"
  }
 },
 "nbformat": 4,
 "nbformat_minor": 5
}
