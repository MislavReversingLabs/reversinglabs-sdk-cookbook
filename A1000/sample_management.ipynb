{
 "cells": [
  {
   "cell_type": "markdown",
   "source": [
    "# A1000 sample management API-s\n",
    "This notebook contains code examples for the A1000 API-s that enable the user to manage their file samples.\n",
    "**NOTE:** If pasted into a Python file in the displayed order, all code cells can also work as a Python script."
   ],
   "metadata": {
    "collapsed": false
   },
   "id": "46cca247c4a13907"
  },
  {
   "cell_type": "markdown",
   "source": [
    "### Covered API-s\n",
    "- Submissions API\n",
    "- Download API\n",
    "- Reanalyze API\n",
    "- Delete API\n",
    "\n",
    "### Credentials\n",
    "Credentials are loaded from a local file instead of being written here in plain text.\n",
    "To learn how to creat the credentials file, see the **Storing and using the credentials** section in the [README file](./README.md) "
   ],
   "metadata": {
    "collapsed": false
   },
   "id": "183645cc6b8dc55a"
  },
  {
   "cell_type": "markdown",
   "source": [
    "### 1. Import the A1000 class"
   ],
   "metadata": {
    "collapsed": false
   },
   "id": "cb1ebd8d5b803834"
  },
  {
   "cell_type": "code",
   "execution_count": null,
   "outputs": [],
   "source": [
    "from ReversingLabs.SDK.a1000 import A1000"
   ],
   "metadata": {
    "collapsed": false
   },
   "id": "121fba4ac36e254"
  },
  {
   "cell_type": "markdown",
   "source": [
    "### 2. Loading the credentials\n",
    "Next, we will load our A1000 credentials and host URL from the local `a1000_credentials.json` file.\n",
    "**NOTE: Instead of doing this step, you can paste your credentials while creating the Python object in the following step.**"
   ],
   "metadata": {
    "collapsed": false
   },
   "id": "16e14c12c58653c8"
  },
  {
   "cell_type": "code",
   "execution_count": null,
   "outputs": [],
   "source": [
    "import json\n",
    "\n",
    "\n",
    "CREDENTIALS = json.load(open(\"a1000_credentials.json\"))\n",
    "HOST = CREDENTIALS.get(\"host\")\n",
    "TOKEN = CREDENTIALS.get(\"token\")\n",
    "USER_AGENT = \"ReversingLabs SDK Cookbook v1.0.2\""
   ],
   "metadata": {
    "collapsed": false
   },
   "id": "6dc1d57373dad3a4"
  },
  {
   "cell_type": "markdown",
   "source": [
    "#### 3. Creating an A1000 object\n",
    "First let us create an object out of the A1000 class. Unlike the `ticloud` module, the `a1000` module has only one class for all its methods (API-s).\n",
    "Having that in mind, we will create our A1000 object:"
   ],
   "metadata": {
    "collapsed": false
   },
   "id": "62d7321f10a333c4"
  },
  {
   "cell_type": "code",
   "execution_count": null,
   "outputs": [],
   "source": [
    "a1000 = A1000(\n",
    "    host=HOST,\n",
    "    token=TOKEN,\n",
    "    verify=False,\n",
    "    user_agent=USER_AGENT\n",
    ")"
   ],
   "metadata": {
    "collapsed": false
   },
   "id": "c2a3552eb709502"
  },
  {
   "cell_type": "markdown",
   "source": [
    "**NOTE:** Set the `verify` parameter to `True` or `False` depending on whether you want your server certificates to be validated or ignored."
   ],
   "metadata": {
    "collapsed": false
   },
   "id": "b78bf1e935f02d1d"
  },
  {
   "cell_type": "markdown",
   "source": [
    "### 4. Submitting a file\n",
    "The Submissions API offers two ways of submitting a file to A1000:\n",
    "- Uploading a local file\n",
    "- Uploading a file from a provided URL string\n",
    "\n",
    "In our example we will cover uploading a local file to A1000.\n",
    "To have a new file uploaded to your instance of A1000, do the following steps:"
   ],
   "metadata": {
    "collapsed": false
   },
   "id": "3b815e683e59bb69"
  },
  {
   "cell_type": "code",
   "execution_count": null,
   "outputs": [],
   "source": [
    "response = a1000.upload_sample_from_path(\n",
    "    file_path=\"our_local_file.exe\",\n",
    "    custom_filename=\"Dangerous_file\",\n",
    "    tags=\"dangerous,malware,tuesday\",\n",
    "    comment=\"Uploaded from the replacement disk\",\n",
    "    rl_cloud_sandbox_platform=\"windows10\"\n",
    ")\n",
    "\n",
    "print(response.text)"
   ],
   "metadata": {
    "collapsed": false
   },
   "id": "c026703400df8a3b"
  },
  {
   "cell_type": "markdown",
   "source": [
    "We have done several things here. Let us explain each of them:\n",
    "- A local file named \"our_local_file.exe\" was uploaded to A1000.\n",
    "- We chose for it to be uploaded to A1000 under a custom filename: \"Dangerous_file\"\n",
    "- Tags \"dangerous\", \"malware\" and \"tuesday\" will be applied to this file on A1000.\n",
    "- A comment stating \"Uploaded from the replacement disk\" will also be added to the file on A1000.\n",
    "- Alongside simply uploading the file to A1000, we also submitted it to dynamic analysis on the Windows 10 platform, so we can fetch the dynamic analysis results in the future."
   ],
   "metadata": {
    "collapsed": false
   },
   "id": "a3c4baae6bb0f00b"
  },
  {
   "cell_type": "markdown",
   "source": [
    "### 5. Downloading a file\n",
    "To download an existing file from A1000, we can do the following:"
   ],
   "metadata": {
    "collapsed": false
   },
   "id": "4b7c84ae01cf262b"
  },
  {
   "cell_type": "code",
   "execution_count": null,
   "outputs": [],
   "source": [
    "response = a1000.download_sample(sample_hash=\"sha1_file_hash\")\n",
    "\n",
    "with open(\"downloaded_file\", \"wb\") as file_handle:\n",
    "    file_handle.write(response.content)"
   ],
   "metadata": {
    "collapsed": false
   },
   "id": "ffb8473ca4fb595f"
  },
  {
   "cell_type": "markdown",
   "source": [
    "We requested a file download from A1000 and stored the file's binary contents into the `response` variable.  \n",
    "After doing that, we created a new empty local file named \"downloaded_file\" and wrote into it our downloaded binary contents."
   ],
   "metadata": {
    "collapsed": false
   },
   "id": "ef047c8c445d141b"
  },
  {
   "cell_type": "markdown",
   "source": [
    "### 6. Reanalyzing a file\n",
    "To reanalyze an existing file on A1000, do the following:"
   ],
   "metadata": {
    "collapsed": false
   },
   "id": "e5dab63d188489e2"
  },
  {
   "cell_type": "code",
   "execution_count": null,
   "outputs": [],
   "source": [
    "response = a1000.reanalyze_samples_v2(\n",
    "    hash_input=[\"first_sha1_hash\", \"second_sha1_hash\"],\n",
    "    titanium_cloud=True,\n",
    "    titanium_core=True,\n",
    "    rl_cloud_sandbox=True,\n",
    "    rl_cloud_sandbox_platform=\"macos_11\"\n",
    ")\n",
    "\n",
    "print(response.text)"
   ],
   "metadata": {
    "collapsed": false
   },
   "id": "23a62222e78464cb"
  },
  {
   "cell_type": "markdown",
   "source": [
    "With this above action we have requested reanalysis of two existing files using their hashes.  \n",
    "Also, the following was requested:\n",
    "- The files will be reanalyzed using TitaniumCloud\n",
    "- The files will be reanalyzed using TitaniumCore\n",
    "- The files will be reanalyzed using dynamic analysis on the MacOS 11 platform.\n",
    "\n",
    "Apart from only these additional parameters there are other possible ones that can be found in the official A1000 API documentation."
   ],
   "metadata": {
    "collapsed": false
   },
   "id": "ed238cc3e19724e5"
  },
  {
   "cell_type": "markdown",
   "source": [
    "### 7. Delete a file\n",
    "And last but not least, we can delete an existing file from our instance of A1000. To do so, do the following steps:"
   ],
   "metadata": {
    "collapsed": false
   },
   "id": "891f18136954333f"
  },
  {
   "cell_type": "code",
   "execution_count": null,
   "outputs": [],
   "source": [
    "response = a1000.delete_samples(hash_input=[\"first_sha1_hash\", \"second_sha1_hash\"])\n",
    "\n",
    "print(response.text)"
   ],
   "metadata": {
    "collapsed": false
   },
   "id": "cce5660cd3d1a91a"
  },
  {
   "cell_type": "markdown",
   "source": [
    "Now we have deleted the two samples that we reanalyzed recently. If the delete request was successful, we will see a message stating so."
   ],
   "metadata": {
    "collapsed": false
   },
   "id": "71711e608685a104"
  }
 ],
 "metadata": {
  "kernelspec": {
   "display_name": "Python 3",
   "language": "python",
   "name": "python3"
  },
  "language_info": {
   "codemirror_mode": {
    "name": "ipython",
    "version": 2
   },
   "file_extension": ".py",
   "mimetype": "text/x-python",
   "name": "python",
   "nbconvert_exporter": "python",
   "pygments_lexer": "ipython2",
   "version": "2.7.6"
  }
 },
 "nbformat": 4,
 "nbformat_minor": 5
}
